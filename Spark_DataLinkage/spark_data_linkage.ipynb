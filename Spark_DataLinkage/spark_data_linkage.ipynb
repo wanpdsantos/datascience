{
  "nbformat": 4,
  "nbformat_minor": 0,
  "metadata": {
    "colab": {
      "name": "Trabalho_BigData.ipynb",
      "provenance": [],
      "collapsed_sections": []
    },
    "kernelspec": {
      "display_name": "Python 3",
      "language": "python",
      "name": "python3"
    },
    "language_info": {
      "codemirror_mode": {
        "name": "ipython",
        "version": 3
      },
      "file_extension": ".py",
      "mimetype": "text/x-python",
      "name": "python",
      "nbconvert_exporter": "python",
      "pygments_lexer": "ipython3",
      "version": "3.7.3"
    }
  },
  "cells": [
    {
      "cell_type": "markdown",
      "metadata": {
        "id": "-Ftng4VY8RHO"
      },
      "source": [
        "---\n",
        "\n",
        "\n",
        "## Data Processing and Analysis - DataScience Course\n",
        "#### Student: Wanderson Santos\n",
        "\n",
        "---\n",
        "\n",
        "\n",
        "\n",
        "---\n",
        "\n"
      ]
    },
    {
      "cell_type": "markdown",
      "metadata": {
        "id": "xiUEKbEL2Jks"
      },
      "source": [
        "###Objective: \n",
        "Find indivuduals from database B who are also present on database A applying \n",
        "Record Linkage techniques based on similarities.\n",
        "\n",
        "---\n",
        "\n",
        "\n",
        "\n",
        "---\n",
        "\n"
      ]
    },
    {
      "cell_type": "markdown",
      "metadata": {
        "id": "DzkAgOKCNu5S"
      },
      "source": [
        "## Framework Initialization"
      ]
    },
    {
      "cell_type": "code",
      "metadata": {
        "id": "u4Rali0X8RHV",
        "colab": {
          "base_uri": "https://localhost:8080/"
        },
        "outputId": "13fc2678-8eaf-410d-fd96-17e92849ed57"
      },
      "source": [
        "!wget -q http://archive.apache.org/dist/spark/spark-2.4.2/spark-2.4.2-bin-hadoop2.7.tgz\n",
        "!tar xf spark-2.4.2-bin-hadoop2.7.tgz\n",
        "!pip install -q findspark\n",
        "\n",
        "\n",
        "!apt-get install openjdk-8-jdk-headless -qq > /dev/null\n",
        "!wget -q https://archive.apache.org/dist/spark/spark-2.4.4/spark-2.4.4-bin-hadoop2.7.tgz\n",
        "!tar xf spark-2.4.4-bin-hadoop2.7.tgz\n",
        "!pip install -q findspark\n",
        "!pip install jellyfish\n",
        "\n",
        "import os\n",
        "os.environ[\"JAVA_HOME\"] = \"/usr/lib/jvm/java-8-openjdk-amd64\"\n",
        "os.environ[\"SPARK_HOME\"] = \"/content/spark-2.4.4-bin-hadoop2.7\"\n",
        "import findspark\n",
        "findspark.init('spark-2.4.4-bin-hadoop2.7')\n",
        "from pyspark.sql import SparkSession\n",
        "spark = SparkSession.builder.master('local[*]').getOrCreate()\n",
        "import pyspark.sql.functions as F\n",
        "from pyspark.sql.types import StringType\n",
        "from pyspark.sql.types import IntegerType\n",
        "from pyspark.sql.types import FloatType\n",
        "from google.colab import drive\n",
        "import pandas as pd\n",
        "import jellyfish"
      ],
      "execution_count": 90,
      "outputs": [
        {
          "output_type": "stream",
          "name": "stdout",
          "text": [
            "Requirement already satisfied: jellyfish in /usr/local/lib/python3.7/dist-packages (0.8.9)\n"
          ]
        }
      ]
    },
    {
      "cell_type": "markdown",
      "metadata": {
        "id": "8d3KMRPH8RIw"
      },
      "source": [
        "### Loading data from Google Drive"
      ]
    },
    {
      "cell_type": "code",
      "metadata": {
        "colab": {
          "base_uri": "https://localhost:8080/"
        },
        "id": "JnX-7VR0K7Xw",
        "outputId": "e1c61e48-a54b-40d7-ed18-3f4c6e828a6c"
      },
      "source": [
        "drive.mount(\"/content/gDrive\", force_remount=True)\n",
        "!ls"
      ],
      "execution_count": 91,
      "outputs": [
        {
          "output_type": "stream",
          "name": "stdout",
          "text": [
            "Mounted at /content/gDrive\n",
            "gDrive\t\t\t       spark-2.4.2-bin-hadoop2.7.tgz.1\n",
            "sample_data\t\t       spark-2.4.4-bin-hadoop2.7\n",
            "spark-2.4.2-bin-hadoop2.7      spark-2.4.4-bin-hadoop2.7.tgz\n",
            "spark-2.4.2-bin-hadoop2.7.tgz\n"
          ]
        }
      ]
    },
    {
      "cell_type": "code",
      "metadata": {
        "id": "IBXbuiRoK7t7"
      },
      "source": [
        "df_base_a = spark.read.csv(\n",
        "  'gDrive/My Drive/Colab Notebooks/Trabalho_BigData/base_sintetica_ascii_a.csv', \n",
        "  header=True\n",
        ")\n",
        "df_base_b = spark.read.csv(\n",
        "  'gDrive/My Drive/Colab Notebooks/Trabalho_BigData/base_sintetica_ascii_b.csv', \n",
        "  header=True\n",
        ")"
      ],
      "execution_count": 128,
      "outputs": []
    },
    {
      "cell_type": "markdown",
      "metadata": {
        "id": "z-ukfOFF8RJC"
      },
      "source": [
        "### Checking DB structure"
      ]
    },
    {
      "cell_type": "code",
      "metadata": {
        "colab": {
          "base_uri": "https://localhost:8080/"
        },
        "id": "UJxYkatD8RJH",
        "outputId": "dfcc9a93-e679-418c-f505-6d0dc2087098"
      },
      "source": [
        "df_base_a.printSchema()"
      ],
      "execution_count": 129,
      "outputs": [
        {
          "output_type": "stream",
          "name": "stdout",
          "text": [
            "root\n",
            " |-- id: string (nullable = true)\n",
            " |-- bairro: string (nullable = true)\n",
            " |-- cep: string (nullable = true)\n",
            " |-- cidade: string (nullable = true)\n",
            " |-- cpf: string (nullable = true)\n",
            " |-- data_nasc: string (nullable = true)\n",
            " |-- email: string (nullable = true)\n",
            " |-- endereco: string (nullable = true)\n",
            " |-- estado: string (nullable = true)\n",
            " |-- idade: string (nullable = true)\n",
            " |-- mae: string (nullable = true)\n",
            " |-- nome: string (nullable = true)\n",
            " |-- numero: string (nullable = true)\n",
            " |-- signo: string (nullable = true)\n",
            " |-- tipo_sanguineo: string (nullable = true)\n",
            " |-- _c15: string (nullable = true)\n",
            "\n"
          ]
        }
      ]
    },
    {
      "cell_type": "code",
      "metadata": {
        "colab": {
          "base_uri": "https://localhost:8080/"
        },
        "id": "rsWKPA3Qx8z_",
        "outputId": "f8c6c8fa-bb11-46b2-bb27-7f0839bde7a1"
      },
      "source": [
        "df_base_b.printSchema()"
      ],
      "execution_count": 130,
      "outputs": [
        {
          "output_type": "stream",
          "name": "stdout",
          "text": [
            "root\n",
            " |-- id: string (nullable = true)\n",
            " |-- cep: string (nullable = true)\n",
            " |-- cidade: string (nullable = true)\n",
            " |-- cpf: string (nullable = true)\n",
            " |-- data_nasc: string (nullable = true)\n",
            " |-- endereco: string (nullable = true)\n",
            " |-- estado: string (nullable = true)\n",
            " |-- mae: string (nullable = true)\n",
            " |-- nome: string (nullable = true)\n",
            " |-- tipo_sanguineo: string (nullable = true)\n",
            "\n"
          ]
        }
      ]
    },
    {
      "cell_type": "markdown",
      "metadata": {
        "id": "7grDqGzA8RJh"
      },
      "source": [
        "### Checking number of users on each database"
      ]
    },
    {
      "cell_type": "code",
      "metadata": {
        "colab": {
          "base_uri": "https://localhost:8080/"
        },
        "id": "Mxz3bv3i8RJj",
        "outputId": "fbe4f38a-c926-4009-aba1-035cd07b6e62"
      },
      "source": [
        "print (df_base_a.count())\n",
        "print (df_base_b.count())"
      ],
      "execution_count": 131,
      "outputs": [
        {
          "output_type": "stream",
          "name": "stdout",
          "text": [
            "540\n",
            "143\n"
          ]
        }
      ]
    },
    {
      "cell_type": "markdown",
      "metadata": {
        "id": "QuKws3v48RRQ"
      },
      "source": [
        "### Databases vizualization"
      ]
    },
    {
      "cell_type": "code",
      "metadata": {
        "id": "UOqMmDYY8RRW",
        "colab": {
          "base_uri": "https://localhost:8080/"
        },
        "outputId": "6e4a3ce7-9ffe-4a72-a4c7-356f956e9a38"
      },
      "source": [
        "df_base_a.show()"
      ],
      "execution_count": 132,
      "outputs": [
        {
          "output_type": "stream",
          "name": "stdout",
          "text": [
            "+---+--------------------+---------+-----------------+--------------+----------+--------------------+--------------------+------+-----+--------------------+--------------------+------+-----------+--------------+----+\n",
            "| id|              bairro|      cep|           cidade|           cpf| data_nasc|               email|            endereco|estado|idade|                 mae|                nome|numero|      signo|tipo_sanguineo|_c15|\n",
            "+---+--------------------+---------+-----------------+--------------+----------+--------------------+--------------------+------+-----+--------------------+--------------------+------+-----------+--------------+----+\n",
            "|  0|         Vila Sarney|65090-677|         Sao Luis|097.627.958-49|10/09/1948|vicenteolivermont...|2a Travessa do Ri...|    MA|   71|     Louise Beatriz |Vicente Oliver Mo...|   738|     Virgem|           AB-|null|\n",
            "|  1|      Vila Sao Jorge|75044-220|         Anapolis|685.096.335-09|24/04/1995|miguelbernardogon...|  Praca Joao Salomao|    GO|   24|     Raquel Barbara |Miguel Bernardo G...|   805|      Touro|            A-|null|\n",
            "|  2|         Cabralzinho|68906-846|           Macapa|956.997.968-27|13/03/1984|ericktheomarcosvi...|    Alameda Calcoene|    AP|   35|Maite Valentina R...|Erick Theo Marcos...|   669|     Peixes|            B+|null|\n",
            "|  3|           Mae Luiza|59014-227|            Natal|631.875.885-22|27/09/1965|mariorobertoisaac...|1a Rua Sao Francisco|    RN|   54|Alicia Cristiane ...|Mario Roberto Isa...|   978|      Libra|           AB+|null|\n",
            "|  4|       Jardim Monaco|86702-790|        Arapongas|397.480.478-14|24/11/1965|eeliasandersonmat...|Rua Mariquita-dos...|    PR|   54|     Tatiane Josefa |Elias Anderson Ma...|   558|  Sagitario|            A+|null|\n",
            "|  5|        Boca da Mata|65917-157|       Imperatriz|216.419.173-00|27/04/1997|gabrielluisjesus_...|  Rua Antenor Bastos|    MA|   22|Fernanda Sebastia...|  Gabriel Luis Jesus|   651|      Touro|            B-|null|\n",
            "|  6|       Boa Esperanca|23894-586|       Seropedica|148.386.650-59|10/01/1985|brunojulioguilher...|    Rua Jose Paucino|    RJ|   34|     Lavinia Isabel |Bruno Julio Guilh...|   445|Capricornio|            B-|null|\n",
            "|  7|  Vila Santo Eugenio|79060-380|     Campo Grande|654.325.863-20|06/12/1957|ttheoguilhermesou...|      Rua Mamanguape|    MS|   62|Andreia Evelyn Ca...|Theo Guilherme Souza|   912|  Sagitario|            O+|null|\n",
            "|  8|         Nova Maraba|68506-160|           Maraba|704.817.633-41|12/11/1955|marcosviniciusdie...|    Quadra Dezesseis|    PA|   64| Luiza Claudia Isis |Marcos Vinicius D...|   869|  Escorpiao|            O+|null|\n",
            "|  9|Ceilandia Norte (...|72241-555|         Brasilia|179.057.616-49|12/11/1952|tthomasenzoarthur...|Quadra EQNP 13/17...|    DF|   67|Stefany Vera Kami...|Thomas Enzo Arthu...|   894|  Escorpiao|            A-|null|\n",
            "| 10|Loteamento Linda ...|13802-488|       Mogi Mirim|999.008.988-42|25/08/1997|caiokevinpereira_...|       Rua Tom Jobim|    SP|   22|     Mariana Helena |  Caio Kevin Pereira|   675|     Virgem|            O-|null|\n",
            "| 11|              Centro|29130-172|            Viana|844.083.511-64|04/09/1999|olivermarioandrea...|   Rua Alvimar Silva|    ES|   20|Marli Hadassa Lor...|Oliver Mario Andr...|   880|     Virgem|           AB+|null|\n",
            "| 12|             Pacheco|88135-079|          Palhoca|164.210.136-27|06/07/1985|mmatheusclaudiori...|Travessa Antonio ...|    SC|   34|      Pietra Aurora |Matheus Claudio R...|   602|     Cancer|            A-|null|\n",
            "| 13|      Setor Noroeste|70686-455|         Brasilia|771.006.764-60|20/02/1997|ddanielvicenteisa...|Quadra SQNW 109 B...|    DF|   22|Jaqueline Valentina |Daniel Vicente Is...|   211|     Peixes|            B-|null|\n",
            "| 14|            Mecejana|69304-350|        Boa Vista|506.865.202-46|22/11/1965|felipebrunodossan...|Avenida Mario Hom...|    RR|   54|Isabelle Marcia A...|Felipe Bruno dos ...|   732|  Sagitario|           AB-|null|\n",
            "| 15|           Primavera|78132-360|    Varzea Grande|325.828.867-42|04/03/1945|marcioheitorsilve...|      Rua Rio Cuiaba|    MT|   74|Alana Isadora Jul...|Marcio Heitor Sil...|   681|     Peixes|           AB-|null|\n",
            "| 16|           Maria Ceu|88810-336|         Criciuma|284.536.218-88|23/09/1961|theomariovictorba...|Rua Romeu Lopes d...|    SC|   58|  Caroline Gabriela |Theo Mario Victor...|   713|      Libra|            A-|null|\n",
            "| 17|              Pedras|60874-405|        Fortaleza|390.375.925-20|11/05/1981|pietrohenrydepaul...|           Rua Matiz|    CE|   38|       Tereza Bruna |Pietro Henry de P...|   118|      Touro|           AB-|null|\n",
            "| 18|    Jardim Aeroporto|79106-140|     Campo Grande|756.005.387-40|14/12/1941|kkaiquethiagodepa...|     Rua Pato Branco|    MS|   78|      Alice Leticia |Kaique Thiago de ...|   349|  Sagitario|            A-|null|\n",
            "| 19|       Novo Juazeiro|63030-450|Juazeiro do Norte|551.341.139-39|16/02/1999|ggabrielerickoliv...| Avenida do Contorno|    CE|   20|Helena Agatha Ter...|Gabriel Erick Oli...|   758|    Aquario|            O+|null|\n",
            "+---+--------------------+---------+-----------------+--------------+----------+--------------------+--------------------+------+-----+--------------------+--------------------+------+-----------+--------------+----+\n",
            "only showing top 20 rows\n",
            "\n"
          ]
        }
      ]
    },
    {
      "cell_type": "code",
      "metadata": {
        "id": "z9ZXpRBRbi-2",
        "colab": {
          "base_uri": "https://localhost:8080/"
        },
        "outputId": "38853e8d-0e2b-4e1e-c8ea-14e7a9b50cfc"
      },
      "source": [
        "df_base_b.show()"
      ],
      "execution_count": 133,
      "outputs": [
        {
          "output_type": "stream",
          "name": "stdout",
          "text": [
            "+---+---------+-----------------+--------------+----------+--------------------+------+--------------------+--------------------+--------------+\n",
            "| id|      cep|           cidade|           cpf| data_nasc|            endereco|estado|                 mae|                nome|tipo_sanguineo|\n",
            "+---+---------+-----------------+--------------+----------+--------------------+------+--------------------+--------------------+--------------+\n",
            "| 01|69304-350|        Boa Vista|506.865.202-46|22/11/1965|Avenida Mario Hom...|    RR|Isabelle Marcia A...|Felipe Bruno dos ...|           AB-|\n",
            "| 02|78132-360|    Varzea Grande|325.828.867-42|      null|      Rua Rio Cuiaba|    MT|       Alana Isadora|Marcio Heitor Sil...|           AB-|\n",
            "| 03|88810-336|         Criciuma|284.536.218-88|23/09/1961|Rua Romeu Lopes d...|    SC|  Caroline Gabriela |Theo Mario Victor...|            A-|\n",
            "| 04|60874-405|        Fortaleza|390.375.925-20|11/05/1981|                null|    CE|       Tereza Bruna |Pietro Henrique d...|           AB-|\n",
            "| 05|79106-140|     Campo Grande|756.005.387-40|14/12/1941|     Rua Pato Branco|    MS|      Alice Leticia |Kaique Thiago de ...|            A-|\n",
            "| 06|63030-450|Juazeiro do Norte|551.341.139-39|16/02/1999| Avenida do Contorno|    CE|Elena Agatha Tere...|Gabriel Erick Oli...|            O+|\n",
            "| 07|84172-370|           Castro|756.048.583-90|11/03/1982|Rua Major Candido...|  null|Vanessa Camila Ni...|Luan Caue Anthony...|          null|\n",
            "| 08|69070-555|           Manaus|386.351.591-95|13/01/1978|                null|    AM|Isabelle Maite Rosa |        Enzo D Rocha|          null|\n",
            "| 09|20950-430|   Rio de Janeiro|885.264.747-31|27/01/2001|         Rua do Amor|    RJ|      Sophie Bianca |Cesar Matheus Cau...|          null|\n",
            "| 10|36071-020|     Juiz de Fora|489.611.821-96|      null|Rua Flavia Rios M...|    MG|Giovana Antonella...|   Caua Isaac Castro|          null|\n",
            "| 11|75063-120|         Anapolis|281.229.310-14|08/11/1947|Avenida dos Palmares|    GO|Mariana Mirella N...|Gabriel Caua Marc...|          null|\n",
            "| 12|78731-260|     Rondonopolis|492.264.809-74|18/04/1969|      Rua Circular-2|    MT|     Rita Ayla Sara |Danilo Severino d...|            B+|\n",
            "| 13|77818-355|             null|816.876.443-90|27/03/1972|       Rua Aparecida|    TO|       Louise Joana |   Samuel Noah Lopes|            O-|\n",
            "| 14|05403-900|             null|327.630.596-86|10/10/1984|Avenida Doutor En...|    SP|      Heloisa Luzia |Juan Raimundo Osv...|            B+|\n",
            "| 15|69036-075|             null|181.410.022-95|05/01/1973|   Beco Sao Pedro II|    AM|Jessica Jaqueline...|Leandro Cesar Jor...|            O-|\n",
            "| 16|40720-479|             null|843.458.724-64|12/09/1996|3a Travessa Osval...|    BA|Lara Sabrina Giov...|Caio Julio Kaue Lima|           AB+|\n",
            "| 17|65075-047|             null|134.836.403-39|21/06/1963|Rua Professora La...|    MA|Leticia Isabelly ...|Guilherme Rafael ...|            A-|\n",
            "| 18|79041-061|             null|557.744.519-17|09/02/1947|     Rua Jacarepagua|    MS|     Gabriela Sueli |Nicolas Edson Araujo|            O-|\n",
            "| 19|72236-503|             null|254.321.926-91|25/05/1988|Quadra EQNP 30/34...|    DF|  Rita Rafaela Lara |Cesar Nelson Dani...|           AB+|\n",
            "| 20|72233-008|         Brasilia|806.443.633-80|16/02/1941|Quadra QNP 20 Con...|    DF|   Nicole Aparecida |Rodrigo Erick Rob...|            B+|\n",
            "+---+---------+-----------------+--------------+----------+--------------------+------+--------------------+--------------------+--------------+\n",
            "only showing top 20 rows\n",
            "\n"
          ]
        }
      ]
    },
    {
      "cell_type": "markdown",
      "metadata": {
        "id": "4qncMjS70pIC"
      },
      "source": [
        "### Renaming columns"
      ]
    },
    {
      "cell_type": "code",
      "metadata": {
        "colab": {
          "base_uri": "https://localhost:8080/"
        },
        "id": "5tb2N1HU0guH",
        "outputId": "8d98f7cb-6b46-4b01-95d0-6306b689b8e2"
      },
      "source": [
        "df_base_a = df_base_a.withColumnRenamed('id', 'id_a')\n",
        "df_base_a = df_base_a.withColumnRenamed('bairro', 'bairro_a')\n",
        "df_base_a = df_base_a.withColumnRenamed('cep', 'cep_a')\n",
        "df_base_a = df_base_a.withColumnRenamed('cidade', 'cidade_a')\n",
        "df_base_a = df_base_a.withColumnRenamed('cpf', 'cpf_a')\n",
        "df_base_a = df_base_a.withColumnRenamed('data_nasc', 'data_nasc_a')\n",
        "df_base_a = df_base_a.withColumnRenamed('email', 'email_a')\n",
        "df_base_a = df_base_a.withColumnRenamed('endereco', 'endereco_a')\n",
        "df_base_a = df_base_a.withColumnRenamed('estado', 'estado_a')\n",
        "df_base_a = df_base_a.withColumnRenamed('idade', 'idade_a')\n",
        "df_base_a = df_base_a.withColumnRenamed('mae', 'mae_a')\n",
        "df_base_a = df_base_a.withColumnRenamed('nome', 'nome_a')\n",
        "df_base_a = df_base_a.withColumnRenamed('numero', 'numero_a')\n",
        "df_base_a = df_base_a.withColumnRenamed('signo', 'signo_a')\n",
        "df_base_a = df_base_a.withColumnRenamed('tipo_sanguineo', 'tipo_sanguineo_a')\n",
        "df_base_a = df_base_a.withColumnRenamed('_c15', '_c15_a')\n",
        "\n",
        "df_base_a.show()"
      ],
      "execution_count": 134,
      "outputs": [
        {
          "output_type": "stream",
          "name": "stdout",
          "text": [
            "+----+--------------------+---------+-----------------+--------------+-----------+--------------------+--------------------+--------+-------+--------------------+--------------------+--------+-----------+----------------+------+\n",
            "|id_a|            bairro_a|    cep_a|         cidade_a|         cpf_a|data_nasc_a|             email_a|          endereco_a|estado_a|idade_a|               mae_a|              nome_a|numero_a|    signo_a|tipo_sanguineo_a|_c15_a|\n",
            "+----+--------------------+---------+-----------------+--------------+-----------+--------------------+--------------------+--------+-------+--------------------+--------------------+--------+-----------+----------------+------+\n",
            "|   0|         Vila Sarney|65090-677|         Sao Luis|097.627.958-49| 10/09/1948|vicenteolivermont...|2a Travessa do Ri...|      MA|     71|     Louise Beatriz |Vicente Oliver Mo...|     738|     Virgem|             AB-|  null|\n",
            "|   1|      Vila Sao Jorge|75044-220|         Anapolis|685.096.335-09| 24/04/1995|miguelbernardogon...|  Praca Joao Salomao|      GO|     24|     Raquel Barbara |Miguel Bernardo G...|     805|      Touro|              A-|  null|\n",
            "|   2|         Cabralzinho|68906-846|           Macapa|956.997.968-27| 13/03/1984|ericktheomarcosvi...|    Alameda Calcoene|      AP|     35|Maite Valentina R...|Erick Theo Marcos...|     669|     Peixes|              B+|  null|\n",
            "|   3|           Mae Luiza|59014-227|            Natal|631.875.885-22| 27/09/1965|mariorobertoisaac...|1a Rua Sao Francisco|      RN|     54|Alicia Cristiane ...|Mario Roberto Isa...|     978|      Libra|             AB+|  null|\n",
            "|   4|       Jardim Monaco|86702-790|        Arapongas|397.480.478-14| 24/11/1965|eeliasandersonmat...|Rua Mariquita-dos...|      PR|     54|     Tatiane Josefa |Elias Anderson Ma...|     558|  Sagitario|              A+|  null|\n",
            "|   5|        Boca da Mata|65917-157|       Imperatriz|216.419.173-00| 27/04/1997|gabrielluisjesus_...|  Rua Antenor Bastos|      MA|     22|Fernanda Sebastia...|  Gabriel Luis Jesus|     651|      Touro|              B-|  null|\n",
            "|   6|       Boa Esperanca|23894-586|       Seropedica|148.386.650-59| 10/01/1985|brunojulioguilher...|    Rua Jose Paucino|      RJ|     34|     Lavinia Isabel |Bruno Julio Guilh...|     445|Capricornio|              B-|  null|\n",
            "|   7|  Vila Santo Eugenio|79060-380|     Campo Grande|654.325.863-20| 06/12/1957|ttheoguilhermesou...|      Rua Mamanguape|      MS|     62|Andreia Evelyn Ca...|Theo Guilherme Souza|     912|  Sagitario|              O+|  null|\n",
            "|   8|         Nova Maraba|68506-160|           Maraba|704.817.633-41| 12/11/1955|marcosviniciusdie...|    Quadra Dezesseis|      PA|     64| Luiza Claudia Isis |Marcos Vinicius D...|     869|  Escorpiao|              O+|  null|\n",
            "|   9|Ceilandia Norte (...|72241-555|         Brasilia|179.057.616-49| 12/11/1952|tthomasenzoarthur...|Quadra EQNP 13/17...|      DF|     67|Stefany Vera Kami...|Thomas Enzo Arthu...|     894|  Escorpiao|              A-|  null|\n",
            "|  10|Loteamento Linda ...|13802-488|       Mogi Mirim|999.008.988-42| 25/08/1997|caiokevinpereira_...|       Rua Tom Jobim|      SP|     22|     Mariana Helena |  Caio Kevin Pereira|     675|     Virgem|              O-|  null|\n",
            "|  11|              Centro|29130-172|            Viana|844.083.511-64| 04/09/1999|olivermarioandrea...|   Rua Alvimar Silva|      ES|     20|Marli Hadassa Lor...|Oliver Mario Andr...|     880|     Virgem|             AB+|  null|\n",
            "|  12|             Pacheco|88135-079|          Palhoca|164.210.136-27| 06/07/1985|mmatheusclaudiori...|Travessa Antonio ...|      SC|     34|      Pietra Aurora |Matheus Claudio R...|     602|     Cancer|              A-|  null|\n",
            "|  13|      Setor Noroeste|70686-455|         Brasilia|771.006.764-60| 20/02/1997|ddanielvicenteisa...|Quadra SQNW 109 B...|      DF|     22|Jaqueline Valentina |Daniel Vicente Is...|     211|     Peixes|              B-|  null|\n",
            "|  14|            Mecejana|69304-350|        Boa Vista|506.865.202-46| 22/11/1965|felipebrunodossan...|Avenida Mario Hom...|      RR|     54|Isabelle Marcia A...|Felipe Bruno dos ...|     732|  Sagitario|             AB-|  null|\n",
            "|  15|           Primavera|78132-360|    Varzea Grande|325.828.867-42| 04/03/1945|marcioheitorsilve...|      Rua Rio Cuiaba|      MT|     74|Alana Isadora Jul...|Marcio Heitor Sil...|     681|     Peixes|             AB-|  null|\n",
            "|  16|           Maria Ceu|88810-336|         Criciuma|284.536.218-88| 23/09/1961|theomariovictorba...|Rua Romeu Lopes d...|      SC|     58|  Caroline Gabriela |Theo Mario Victor...|     713|      Libra|              A-|  null|\n",
            "|  17|              Pedras|60874-405|        Fortaleza|390.375.925-20| 11/05/1981|pietrohenrydepaul...|           Rua Matiz|      CE|     38|       Tereza Bruna |Pietro Henry de P...|     118|      Touro|             AB-|  null|\n",
            "|  18|    Jardim Aeroporto|79106-140|     Campo Grande|756.005.387-40| 14/12/1941|kkaiquethiagodepa...|     Rua Pato Branco|      MS|     78|      Alice Leticia |Kaique Thiago de ...|     349|  Sagitario|              A-|  null|\n",
            "|  19|       Novo Juazeiro|63030-450|Juazeiro do Norte|551.341.139-39| 16/02/1999|ggabrielerickoliv...| Avenida do Contorno|      CE|     20|Helena Agatha Ter...|Gabriel Erick Oli...|     758|    Aquario|              O+|  null|\n",
            "+----+--------------------+---------+-----------------+--------------+-----------+--------------------+--------------------+--------+-------+--------------------+--------------------+--------+-----------+----------------+------+\n",
            "only showing top 20 rows\n",
            "\n"
          ]
        }
      ]
    },
    {
      "cell_type": "code",
      "metadata": {
        "colab": {
          "base_uri": "https://localhost:8080/"
        },
        "id": "Z8DkDwJe2fBn",
        "outputId": "7295fdb9-9681-4446-e678-6bbda8f2d7b3"
      },
      "source": [
        "df_base_b = df_base_b.withColumnRenamed('id', 'id_b')\n",
        "df_base_b = df_base_b.withColumnRenamed('cep', 'cep_b')\n",
        "df_base_b = df_base_b.withColumnRenamed('cidade', 'cidade_b')\n",
        "df_base_b = df_base_b.withColumnRenamed('cpf', 'cpf_b')\n",
        "df_base_b = df_base_b.withColumnRenamed('data_nasc', 'data_nasc_b')\n",
        "df_base_b = df_base_b.withColumnRenamed('endereco', 'endereco_b')\n",
        "df_base_b = df_base_b.withColumnRenamed('estado', 'estado_b')\n",
        "df_base_b = df_base_b.withColumnRenamed('mae', 'mae_b')\n",
        "df_base_b = df_base_b.withColumnRenamed('nome', 'nome_b')\n",
        "df_base_b = df_base_b.withColumnRenamed('tipo_sanguineo', 'tipo_sanguineo_b')\n",
        "\n",
        "df_base_b.show()"
      ],
      "execution_count": 135,
      "outputs": [
        {
          "output_type": "stream",
          "name": "stdout",
          "text": [
            "+----+---------+-----------------+--------------+-----------+--------------------+--------+--------------------+--------------------+----------------+\n",
            "|id_b|    cep_b|         cidade_b|         cpf_b|data_nasc_b|          endereco_b|estado_b|               mae_b|              nome_b|tipo_sanguineo_b|\n",
            "+----+---------+-----------------+--------------+-----------+--------------------+--------+--------------------+--------------------+----------------+\n",
            "|  01|69304-350|        Boa Vista|506.865.202-46| 22/11/1965|Avenida Mario Hom...|      RR|Isabelle Marcia A...|Felipe Bruno dos ...|             AB-|\n",
            "|  02|78132-360|    Varzea Grande|325.828.867-42|       null|      Rua Rio Cuiaba|      MT|       Alana Isadora|Marcio Heitor Sil...|             AB-|\n",
            "|  03|88810-336|         Criciuma|284.536.218-88| 23/09/1961|Rua Romeu Lopes d...|      SC|  Caroline Gabriela |Theo Mario Victor...|              A-|\n",
            "|  04|60874-405|        Fortaleza|390.375.925-20| 11/05/1981|                null|      CE|       Tereza Bruna |Pietro Henrique d...|             AB-|\n",
            "|  05|79106-140|     Campo Grande|756.005.387-40| 14/12/1941|     Rua Pato Branco|      MS|      Alice Leticia |Kaique Thiago de ...|              A-|\n",
            "|  06|63030-450|Juazeiro do Norte|551.341.139-39| 16/02/1999| Avenida do Contorno|      CE|Elena Agatha Tere...|Gabriel Erick Oli...|              O+|\n",
            "|  07|84172-370|           Castro|756.048.583-90| 11/03/1982|Rua Major Candido...|    null|Vanessa Camila Ni...|Luan Caue Anthony...|            null|\n",
            "|  08|69070-555|           Manaus|386.351.591-95| 13/01/1978|                null|      AM|Isabelle Maite Rosa |        Enzo D Rocha|            null|\n",
            "|  09|20950-430|   Rio de Janeiro|885.264.747-31| 27/01/2001|         Rua do Amor|      RJ|      Sophie Bianca |Cesar Matheus Cau...|            null|\n",
            "|  10|36071-020|     Juiz de Fora|489.611.821-96|       null|Rua Flavia Rios M...|      MG|Giovana Antonella...|   Caua Isaac Castro|            null|\n",
            "|  11|75063-120|         Anapolis|281.229.310-14| 08/11/1947|Avenida dos Palmares|      GO|Mariana Mirella N...|Gabriel Caua Marc...|            null|\n",
            "|  12|78731-260|     Rondonopolis|492.264.809-74| 18/04/1969|      Rua Circular-2|      MT|     Rita Ayla Sara |Danilo Severino d...|              B+|\n",
            "|  13|77818-355|             null|816.876.443-90| 27/03/1972|       Rua Aparecida|      TO|       Louise Joana |   Samuel Noah Lopes|              O-|\n",
            "|  14|05403-900|             null|327.630.596-86| 10/10/1984|Avenida Doutor En...|      SP|      Heloisa Luzia |Juan Raimundo Osv...|              B+|\n",
            "|  15|69036-075|             null|181.410.022-95| 05/01/1973|   Beco Sao Pedro II|      AM|Jessica Jaqueline...|Leandro Cesar Jor...|              O-|\n",
            "|  16|40720-479|             null|843.458.724-64| 12/09/1996|3a Travessa Osval...|      BA|Lara Sabrina Giov...|Caio Julio Kaue Lima|             AB+|\n",
            "|  17|65075-047|             null|134.836.403-39| 21/06/1963|Rua Professora La...|      MA|Leticia Isabelly ...|Guilherme Rafael ...|              A-|\n",
            "|  18|79041-061|             null|557.744.519-17| 09/02/1947|     Rua Jacarepagua|      MS|     Gabriela Sueli |Nicolas Edson Araujo|              O-|\n",
            "|  19|72236-503|             null|254.321.926-91| 25/05/1988|Quadra EQNP 30/34...|      DF|  Rita Rafaela Lara |Cesar Nelson Dani...|             AB+|\n",
            "|  20|72233-008|         Brasilia|806.443.633-80| 16/02/1941|Quadra QNP 20 Con...|      DF|   Nicole Aparecida |Rodrigo Erick Rob...|              B+|\n",
            "+----+---------+-----------------+--------------+-----------+--------------------+--------+--------------------+--------------------+----------------+\n",
            "only showing top 20 rows\n",
            "\n"
          ]
        }
      ]
    },
    {
      "cell_type": "markdown",
      "metadata": {
        "id": "OpPPcKmdJvwS"
      },
      "source": [
        "## FIRST EVALUATION METHOD - Jellyfish with Jaro Winkler"
      ]
    },
    {
      "cell_type": "markdown",
      "metadata": {
        "id": "W_2IZEHCJZNz"
      },
      "source": [
        "### Selecting the attributes which will be compared"
      ]
    },
    {
      "cell_type": "code",
      "metadata": {
        "colab": {
          "base_uri": "https://localhost:8080/"
        },
        "id": "FsP4XTNu3ap9",
        "outputId": "76612c33-ee82-4cc8-860e-b81183c76c51"
      },
      "source": [
        "df_base_a_method1 = df_base_a.select(['cpf_a', 'data_nasc_a','nome_a', 'mae_a','tipo_sanguineo_a'])\n",
        "df_base_b_method1 = df_base_b.select(['cpf_b','data_nasc_b', 'nome_b','mae_b', 'tipo_sanguineo_b'])\n",
        "print (df_base_a_method1.count())\n",
        "print (df_base_b_method1.count())\n",
        "print (df_base_a_method1.show())\n",
        "print (df_base_b_method1.show())"
      ],
      "execution_count": 136,
      "outputs": [
        {
          "output_type": "stream",
          "name": "stdout",
          "text": [
            "540\n",
            "143\n",
            "+--------------+-----------+--------------------+--------------------+----------------+\n",
            "|         cpf_a|data_nasc_a|              nome_a|               mae_a|tipo_sanguineo_a|\n",
            "+--------------+-----------+--------------------+--------------------+----------------+\n",
            "|097.627.958-49| 10/09/1948|Vicente Oliver Mo...|     Louise Beatriz |             AB-|\n",
            "|685.096.335-09| 24/04/1995|Miguel Bernardo G...|     Raquel Barbara |              A-|\n",
            "|956.997.968-27| 13/03/1984|Erick Theo Marcos...|Maite Valentina R...|              B+|\n",
            "|631.875.885-22| 27/09/1965|Mario Roberto Isa...|Alicia Cristiane ...|             AB+|\n",
            "|397.480.478-14| 24/11/1965|Elias Anderson Ma...|     Tatiane Josefa |              A+|\n",
            "|216.419.173-00| 27/04/1997|  Gabriel Luis Jesus|Fernanda Sebastia...|              B-|\n",
            "|148.386.650-59| 10/01/1985|Bruno Julio Guilh...|     Lavinia Isabel |              B-|\n",
            "|654.325.863-20| 06/12/1957|Theo Guilherme Souza|Andreia Evelyn Ca...|              O+|\n",
            "|704.817.633-41| 12/11/1955|Marcos Vinicius D...| Luiza Claudia Isis |              O+|\n",
            "|179.057.616-49| 12/11/1952|Thomas Enzo Arthu...|Stefany Vera Kami...|              A-|\n",
            "|999.008.988-42| 25/08/1997|  Caio Kevin Pereira|     Mariana Helena |              O-|\n",
            "|844.083.511-64| 04/09/1999|Oliver Mario Andr...|Marli Hadassa Lor...|             AB+|\n",
            "|164.210.136-27| 06/07/1985|Matheus Claudio R...|      Pietra Aurora |              A-|\n",
            "|771.006.764-60| 20/02/1997|Daniel Vicente Is...|Jaqueline Valentina |              B-|\n",
            "|506.865.202-46| 22/11/1965|Felipe Bruno dos ...|Isabelle Marcia A...|             AB-|\n",
            "|325.828.867-42| 04/03/1945|Marcio Heitor Sil...|Alana Isadora Jul...|             AB-|\n",
            "|284.536.218-88| 23/09/1961|Theo Mario Victor...|  Caroline Gabriela |              A-|\n",
            "|390.375.925-20| 11/05/1981|Pietro Henry de P...|       Tereza Bruna |             AB-|\n",
            "|756.005.387-40| 14/12/1941|Kaique Thiago de ...|      Alice Leticia |              A-|\n",
            "|551.341.139-39| 16/02/1999|Gabriel Erick Oli...|Helena Agatha Ter...|              O+|\n",
            "+--------------+-----------+--------------------+--------------------+----------------+\n",
            "only showing top 20 rows\n",
            "\n",
            "None\n",
            "+--------------+-----------+--------------------+--------------------+----------------+\n",
            "|         cpf_b|data_nasc_b|              nome_b|               mae_b|tipo_sanguineo_b|\n",
            "+--------------+-----------+--------------------+--------------------+----------------+\n",
            "|506.865.202-46| 22/11/1965|Felipe Bruno dos ...|Isabelle Marcia A...|             AB-|\n",
            "|325.828.867-42|       null|Marcio Heitor Sil...|       Alana Isadora|             AB-|\n",
            "|284.536.218-88| 23/09/1961|Theo Mario Victor...|  Caroline Gabriela |              A-|\n",
            "|390.375.925-20| 11/05/1981|Pietro Henrique d...|       Tereza Bruna |             AB-|\n",
            "|756.005.387-40| 14/12/1941|Kaique Thiago de ...|      Alice Leticia |              A-|\n",
            "|551.341.139-39| 16/02/1999|Gabriel Erick Oli...|Elena Agatha Tere...|              O+|\n",
            "|756.048.583-90| 11/03/1982|Luan Caue Anthony...|Vanessa Camila Ni...|            null|\n",
            "|386.351.591-95| 13/01/1978|        Enzo D Rocha|Isabelle Maite Rosa |            null|\n",
            "|885.264.747-31| 27/01/2001|Cesar Matheus Cau...|      Sophie Bianca |            null|\n",
            "|489.611.821-96|       null|   Caua Isaac Castro|Giovana Antonella...|            null|\n",
            "|281.229.310-14| 08/11/1947|Gabriel Caua Marc...|Mariana Mirella N...|            null|\n",
            "|492.264.809-74| 18/04/1969|Danilo Severino d...|     Rita Ayla Sara |              B+|\n",
            "|816.876.443-90| 27/03/1972|   Samuel Noah Lopes|       Louise Joana |              O-|\n",
            "|327.630.596-86| 10/10/1984|Juan Raimundo Osv...|      Heloisa Luzia |              B+|\n",
            "|181.410.022-95| 05/01/1973|Leandro Cesar Jor...|Jessica Jaqueline...|              O-|\n",
            "|843.458.724-64| 12/09/1996|Caio Julio Kaue Lima|Lara Sabrina Giov...|             AB+|\n",
            "|134.836.403-39| 21/06/1963|Guilherme Rafael ...|Leticia Isabelly ...|              A-|\n",
            "|557.744.519-17| 09/02/1947|Nicolas Edson Araujo|     Gabriela Sueli |              O-|\n",
            "|254.321.926-91| 25/05/1988|Cesar Nelson Dani...|  Rita Rafaela Lara |             AB+|\n",
            "|806.443.633-80| 16/02/1941|Rodrigo Erick Rob...|   Nicole Aparecida |              B+|\n",
            "+--------------+-----------+--------------------+--------------------+----------------+\n",
            "only showing top 20 rows\n",
            "\n",
            "None\n"
          ]
        }
      ]
    },
    {
      "cell_type": "markdown",
      "metadata": {
        "id": "D7CqbrS-3_Zh"
      },
      "source": [
        "### Generating phonetics"
      ]
    },
    {
      "cell_type": "code",
      "metadata": {
        "id": "Nc5WufAm8RRb"
      },
      "source": [
        "def generateMetaphone(col):\n",
        "  return jellyfish.metaphone(col)\n",
        "udf_criaMetaphone = F.udf(generateMetaphone, StringType())"
      ],
      "execution_count": 137,
      "outputs": []
    },
    {
      "cell_type": "code",
      "metadata": {
        "id": "fAQwU9Zu8RRd"
      },
      "source": [
        "df_base_a_method1 = df_base_a_method1.withColumn('phonetic_nome_a', udf_criaMetaphone(F.col('nome_a')))\n",
        "df_base_a_method1 = df_base_a_method1.withColumn('phonetic_mae_a', udf_criaMetaphone(F.col('mae_a')))\n",
        "\n",
        "df_base_b_method1 = df_base_b_method1.withColumn('phonetic_nome_b', udf_criaMetaphone(F.col('nome_b')))\n",
        "df_base_b_method1 = df_base_b_method1.withColumn('phonetic_mae_b', udf_criaMetaphone(F.col('mae_b')))"
      ],
      "execution_count": 138,
      "outputs": []
    },
    {
      "cell_type": "markdown",
      "metadata": {
        "id": "21E3oY731YRV"
      },
      "source": [
        "### Checking and Removing registers with missing parameters"
      ]
    },
    {
      "cell_type": "code",
      "metadata": {
        "colab": {
          "base_uri": "https://localhost:8080/"
        },
        "id": "4czK_WmEM0rT",
        "outputId": "4af84b54-84ff-4481-b94f-e67e24de3034"
      },
      "source": [
        "print(df_base_a_method1.filter((df_base_a_method1['nome_a'].isNull())).count())\n",
        "print(df_base_b_method1.filter((df_base_b_method1['nome_b'].isNull())).count())"
      ],
      "execution_count": 139,
      "outputs": [
        {
          "output_type": "stream",
          "name": "stdout",
          "text": [
            "0\n",
            "2\n"
          ]
        }
      ]
    },
    {
      "cell_type": "code",
      "metadata": {
        "id": "OuKB48w_8wuw",
        "colab": {
          "base_uri": "https://localhost:8080/"
        },
        "outputId": "564d559b-0bbf-4f38-91f1-93c534dd8045"
      },
      "source": [
        "df_base_b_method1 = df_base_b_method1.select([\n",
        "  'cpf_b',\n",
        "  'data_nasc_b',\n",
        "  'nome_b',\n",
        "  'mae_b',\n",
        "  'tipo_sanguineo_b',\n",
        "  'phonetic_nome_b',\n",
        "  'phonetic_mae_b'\n",
        "]).filter((df_base_b_method1['nome_b'].isNotNull()))\n",
        "\n",
        "print(df_base_b_method1.count())\n",
        "df_base_b_method1.show()"
      ],
      "execution_count": 140,
      "outputs": [
        {
          "output_type": "stream",
          "name": "stdout",
          "text": [
            "141\n",
            "+--------------+-----------+--------------------+--------------------+----------------+--------------------+---------------+\n",
            "|         cpf_b|data_nasc_b|              nome_b|               mae_b|tipo_sanguineo_b|     phonetic_nome_b| phonetic_mae_b|\n",
            "+--------------+-----------+--------------------+--------------------+----------------+--------------------+---------------+\n",
            "|506.865.202-46| 22/11/1965|Felipe Bruno dos ...|Isabelle Marcia A...|             AB-|     FLP BRN TS SNTS|ISBL MRX ANTNL |\n",
            "|325.828.867-42|       null|Marcio Heitor Sil...|       Alana Isadora|             AB-|        MRS HTR SLFR|       ALN ISTR|\n",
            "|284.536.218-88| 23/09/1961|Theo Mario Victor...|  Caroline Gabriela |              A-|      0 MR FKTR BRBS|     KRLN KBRL |\n",
            "|390.375.925-20| 11/05/1981|Pietro Henrique d...|       Tereza Bruna |             AB-|       PTR HNRK T PL|       TRS BRN |\n",
            "|756.005.387-40| 14/12/1941|Kaique Thiago de ...|      Alice Leticia |              A-|          KK 0K T PL|       ALS LTX |\n",
            "|551.341.139-39| 16/02/1999|Gabriel Erick Oli...|Elena Agatha Tere...|              O+|  KBRL ERK OLFR T LS| ELN AK0 TRSNH |\n",
            "|756.048.583-90| 11/03/1982|Luan Caue Anthony...|Vanessa Camila Ni...|            null|      LN K AN0N T MT|   FNS KML NKL |\n",
            "|386.351.591-95| 13/01/1978|        Enzo D Rocha|Isabelle Maite Rosa |            null|            ENS T RX|    ISBL MT RS |\n",
            "|885.264.747-31| 27/01/2001|Cesar Matheus Cau...|      Sophie Bianca |            null|     SSR M0S K RTRKS|        SF BNK |\n",
            "|489.611.821-96|       null|   Caua Isaac Castro|Giovana Antonella...|            null|          K ISK KSTR| JFN ANTNL LRS |\n",
            "|281.229.310-14| 08/11/1947|Gabriel Caua Marc...|Mariana Mirella N...|            null|KBRL K MRKS FNSS ...|   MRN MRL NTL |\n",
            "|492.264.809-74| 18/04/1969|Danilo Severino d...|     Rita Ayla Sara |              B+|      TNL SFRN T KRS|      RT AL SR |\n",
            "|816.876.443-90| 27/03/1972|   Samuel Noah Lopes|       Louise Joana |              O-|           SML N LPS|         LS JN |\n",
            "|327.630.596-86| 10/10/1984|Juan Raimundo Osv...|      Heloisa Luzia |              B+|  JN RMNT OSFLT KRTS|        HLS LS |\n",
            "|181.410.022-95| 05/01/1973|Leandro Cesar Jor...|Jessica Jaqueline...|              O-|  LNTR SSR JRJ TRMNT|  JSK JKLN FLF |\n",
            "|843.458.724-64| 12/09/1996|Caio Julio Kaue Lima|Lara Sabrina Giov...|             AB+|           K JL K LM|   LR SBRN JFN |\n",
            "|134.836.403-39| 21/06/1963|Guilherme Rafael ...|Leticia Isabelly ...|              A-|  KLHRM RFL KFN MNTR| LTX ISBL STFN |\n",
            "|557.744.519-17| 09/02/1947|Nicolas Edson Araujo|     Gabriela Sueli |              O-|       NKLS ETSN ARJ|       KBRL SL |\n",
            "|254.321.926-91| 25/05/1988|Cesar Nelson Dani...|  Rita Rafaela Lara |             AB+|    SSR NLSN TNL BRT|     RT RFL LR |\n",
            "|806.443.633-80| 16/02/1941|Rodrigo Erick Rob...|   Nicole Aparecida |              B+|  RTRK ERK RBRT FRTS|     NKL APRST |\n",
            "+--------------+-----------+--------------------+--------------------+----------------+--------------------+---------------+\n",
            "only showing top 20 rows\n",
            "\n"
          ]
        }
      ]
    },
    {
      "cell_type": "markdown",
      "metadata": {
        "id": "WXBYMG804pRh"
      },
      "source": [
        "### Performing CrossJoin between the datasets"
      ]
    },
    {
      "cell_type": "code",
      "metadata": {
        "colab": {
          "base_uri": "https://localhost:8080/"
        },
        "id": "hL4sTQTk8RRn",
        "outputId": "4ae7b419-b431-40f3-d39a-246d68bb7070"
      },
      "source": [
        "dataset_linkage1 = df_base_a_method1.crossJoin(df_base_b_method1)\n",
        "print (dataset_linkage1.count())\n",
        "dataset_linkage1.show()"
      ],
      "execution_count": 143,
      "outputs": [
        {
          "output_type": "stream",
          "name": "stdout",
          "text": [
            "76140\n",
            "+--------------+-----------+--------------------+---------------+----------------+---------------+--------------+--------------+-----------+--------------------+--------------------+----------------+--------------------+---------------+\n",
            "|         cpf_a|data_nasc_a|              nome_a|          mae_a|tipo_sanguineo_a|phonetic_nome_a|phonetic_mae_a|         cpf_b|data_nasc_b|              nome_b|               mae_b|tipo_sanguineo_b|     phonetic_nome_b| phonetic_mae_b|\n",
            "+--------------+-----------+--------------------+---------------+----------------+---------------+--------------+--------------+-----------+--------------------+--------------------+----------------+--------------------+---------------+\n",
            "|097.627.958-49| 10/09/1948|Vicente Oliver Mo...|Louise Beatriz |             AB-| FSNT OLFR MNTR|      LS BTRS |506.865.202-46| 22/11/1965|Felipe Bruno dos ...|Isabelle Marcia A...|             AB-|     FLP BRN TS SNTS|ISBL MRX ANTNL |\n",
            "|097.627.958-49| 10/09/1948|Vicente Oliver Mo...|Louise Beatriz |             AB-| FSNT OLFR MNTR|      LS BTRS |325.828.867-42|       null|Marcio Heitor Sil...|       Alana Isadora|             AB-|        MRS HTR SLFR|       ALN ISTR|\n",
            "|097.627.958-49| 10/09/1948|Vicente Oliver Mo...|Louise Beatriz |             AB-| FSNT OLFR MNTR|      LS BTRS |284.536.218-88| 23/09/1961|Theo Mario Victor...|  Caroline Gabriela |              A-|      0 MR FKTR BRBS|     KRLN KBRL |\n",
            "|097.627.958-49| 10/09/1948|Vicente Oliver Mo...|Louise Beatriz |             AB-| FSNT OLFR MNTR|      LS BTRS |390.375.925-20| 11/05/1981|Pietro Henrique d...|       Tereza Bruna |             AB-|       PTR HNRK T PL|       TRS BRN |\n",
            "|097.627.958-49| 10/09/1948|Vicente Oliver Mo...|Louise Beatriz |             AB-| FSNT OLFR MNTR|      LS BTRS |756.005.387-40| 14/12/1941|Kaique Thiago de ...|      Alice Leticia |              A-|          KK 0K T PL|       ALS LTX |\n",
            "|097.627.958-49| 10/09/1948|Vicente Oliver Mo...|Louise Beatriz |             AB-| FSNT OLFR MNTR|      LS BTRS |551.341.139-39| 16/02/1999|Gabriel Erick Oli...|Elena Agatha Tere...|              O+|  KBRL ERK OLFR T LS| ELN AK0 TRSNH |\n",
            "|097.627.958-49| 10/09/1948|Vicente Oliver Mo...|Louise Beatriz |             AB-| FSNT OLFR MNTR|      LS BTRS |756.048.583-90| 11/03/1982|Luan Caue Anthony...|Vanessa Camila Ni...|            null|      LN K AN0N T MT|   FNS KML NKL |\n",
            "|097.627.958-49| 10/09/1948|Vicente Oliver Mo...|Louise Beatriz |             AB-| FSNT OLFR MNTR|      LS BTRS |386.351.591-95| 13/01/1978|        Enzo D Rocha|Isabelle Maite Rosa |            null|            ENS T RX|    ISBL MT RS |\n",
            "|097.627.958-49| 10/09/1948|Vicente Oliver Mo...|Louise Beatriz |             AB-| FSNT OLFR MNTR|      LS BTRS |885.264.747-31| 27/01/2001|Cesar Matheus Cau...|      Sophie Bianca |            null|     SSR M0S K RTRKS|        SF BNK |\n",
            "|097.627.958-49| 10/09/1948|Vicente Oliver Mo...|Louise Beatriz |             AB-| FSNT OLFR MNTR|      LS BTRS |489.611.821-96|       null|   Caua Isaac Castro|Giovana Antonella...|            null|          K ISK KSTR| JFN ANTNL LRS |\n",
            "|097.627.958-49| 10/09/1948|Vicente Oliver Mo...|Louise Beatriz |             AB-| FSNT OLFR MNTR|      LS BTRS |281.229.310-14| 08/11/1947|Gabriel Caua Marc...|Mariana Mirella N...|            null|KBRL K MRKS FNSS ...|   MRN MRL NTL |\n",
            "|097.627.958-49| 10/09/1948|Vicente Oliver Mo...|Louise Beatriz |             AB-| FSNT OLFR MNTR|      LS BTRS |492.264.809-74| 18/04/1969|Danilo Severino d...|     Rita Ayla Sara |              B+|      TNL SFRN T KRS|      RT AL SR |\n",
            "|097.627.958-49| 10/09/1948|Vicente Oliver Mo...|Louise Beatriz |             AB-| FSNT OLFR MNTR|      LS BTRS |816.876.443-90| 27/03/1972|   Samuel Noah Lopes|       Louise Joana |              O-|           SML N LPS|         LS JN |\n",
            "|097.627.958-49| 10/09/1948|Vicente Oliver Mo...|Louise Beatriz |             AB-| FSNT OLFR MNTR|      LS BTRS |327.630.596-86| 10/10/1984|Juan Raimundo Osv...|      Heloisa Luzia |              B+|  JN RMNT OSFLT KRTS|        HLS LS |\n",
            "|097.627.958-49| 10/09/1948|Vicente Oliver Mo...|Louise Beatriz |             AB-| FSNT OLFR MNTR|      LS BTRS |181.410.022-95| 05/01/1973|Leandro Cesar Jor...|Jessica Jaqueline...|              O-|  LNTR SSR JRJ TRMNT|  JSK JKLN FLF |\n",
            "|097.627.958-49| 10/09/1948|Vicente Oliver Mo...|Louise Beatriz |             AB-| FSNT OLFR MNTR|      LS BTRS |843.458.724-64| 12/09/1996|Caio Julio Kaue Lima|Lara Sabrina Giov...|             AB+|           K JL K LM|   LR SBRN JFN |\n",
            "|097.627.958-49| 10/09/1948|Vicente Oliver Mo...|Louise Beatriz |             AB-| FSNT OLFR MNTR|      LS BTRS |134.836.403-39| 21/06/1963|Guilherme Rafael ...|Leticia Isabelly ...|              A-|  KLHRM RFL KFN MNTR| LTX ISBL STFN |\n",
            "|097.627.958-49| 10/09/1948|Vicente Oliver Mo...|Louise Beatriz |             AB-| FSNT OLFR MNTR|      LS BTRS |557.744.519-17| 09/02/1947|Nicolas Edson Araujo|     Gabriela Sueli |              O-|       NKLS ETSN ARJ|       KBRL SL |\n",
            "|097.627.958-49| 10/09/1948|Vicente Oliver Mo...|Louise Beatriz |             AB-| FSNT OLFR MNTR|      LS BTRS |254.321.926-91| 25/05/1988|Cesar Nelson Dani...|  Rita Rafaela Lara |             AB+|    SSR NLSN TNL BRT|     RT RFL LR |\n",
            "|097.627.958-49| 10/09/1948|Vicente Oliver Mo...|Louise Beatriz |             AB-| FSNT OLFR MNTR|      LS BTRS |806.443.633-80| 16/02/1941|Rodrigo Erick Rob...|   Nicole Aparecida |              B+|  RTRK ERK RBRT FRTS|     NKL APRST |\n",
            "+--------------+-----------+--------------------+---------------+----------------+---------------+--------------+--------------+-----------+--------------------+--------------------+----------------+--------------------+---------------+\n",
            "only showing top 20 rows\n",
            "\n"
          ]
        }
      ]
    },
    {
      "cell_type": "markdown",
      "metadata": {
        "id": "YpxrqAw8nfu1"
      },
      "source": [
        "******************************************************************************************************************************************************************************************************************************************"
      ]
    },
    {
      "cell_type": "markdown",
      "metadata": {
        "id": "y1yITSwRnZkq"
      },
      "source": [
        "### Similarity Calculation (Jellyfish without weighted attributes)"
      ]
    },
    {
      "cell_type": "code",
      "metadata": {
        "id": "HN_ReLRUL3wx"
      },
      "source": [
        "# Alterada a funcao unicode por str, pois estava apresentando erro.\n",
        "# Funcao para calcular % do jellyfish.hamming_distance, pois o resultante \n",
        "# é a quantidade de caracteres diferentes entre duas strings.\n",
        "def compare(data_nasc_a,mae_a, nome_a, tipo_sanguineo_a, phonetic_mae_a, phonetic_nome_a,\n",
        "  data_nasc_b, mae_b, nome_b, tipo_sanguineo_b, phonetic_mae_b, phonetic_nome_b\n",
        "):\n",
        "  sim = 0\n",
        "  sim_nominais = 0\n",
        "  sim_cat = 0\n",
        "  # Comparando atributos nominais\n",
        "  sim_nominais = jellyfish.jaro_winkler(str(mae_a), str(mae_b))\n",
        "  sim_nominais += jellyfish.jaro_winkler(str(nome_a), str(nome_b))\n",
        "  sim_nominais += jellyfish.jaro_winkler(str(phonetic_mae_a), str(phonetic_mae_b))\n",
        "  sim_nominais += jellyfish.jaro_winkler(str(phonetic_nome_a), str(phonetic_nome_b))\n",
        "\n",
        "  # Comparando categorias\n",
        "  # Hamming é uma distancia que representa a qtde de caracteres diferetes entre 2 strings.\n",
        "  # Foi calculado o % com relação a string de maior caractere e para saber a similiarade, precisamos\n",
        "  # encontrar o complemento da medida.\n",
        "  # sim_cat não é calculado se a \"data_nasc\" ou \"tipo_sanguineo\" de uma das bases estiver vazia \n",
        "  \n",
        "  if not((data_nasc_a) is None) and not((data_nasc_b) is None):\n",
        "    sim_cat = 1 - (jellyfish.hamming_distance(str(data_nasc_a), str(data_nasc_b)))\\\n",
        "    /(max(len(data_nasc_a),len(data_nasc_b)))\n",
        "  if not((tipo_sanguineo_a) is None) and not((tipo_sanguineo_b) is None):\n",
        "    sim_cat += 1 - (jellyfish.hamming_distance(str(tipo_sanguineo_a), str(tipo_sanguineo_b)))\\\n",
        "    /(max(len(tipo_sanguineo_a),len(tipo_sanguineo_b)))\n",
        "  \n",
        "  # Media aritmetica simples\n",
        "  sim = str(abs(float(sim_nominais + sim_cat)/6))\n",
        "  \n",
        "  return sim\n",
        "udf_compare = F.udf(compare, StringType())"
      ],
      "execution_count": 144,
      "outputs": []
    },
    {
      "cell_type": "code",
      "metadata": {
        "id": "mM8VKUm3A6sg",
        "colab": {
          "base_uri": "https://localhost:8080/"
        },
        "outputId": "85fc5c0d-1e50-4b3c-fdfe-db1f0a25ab80"
      },
      "source": [
        "result_linkage1 = dataset_linkage1.withColumn('similarity', udf_compare(\n",
        "  F.col('data_nasc_a'), \n",
        "  F.col('mae_a'), \n",
        "  F.col('nome_a'), \n",
        "  F.col('tipo_sanguineo_a'), \n",
        "  F.col('phonetic_mae_a'), \n",
        "  F.col('phonetic_nome_a'),\n",
        "  F.col('data_nasc_b'), \n",
        "  F.col('mae_b'), \n",
        "  F.col('nome_b'), \n",
        "  F.col('tipo_sanguineo_b'), \n",
        "  F.col('phonetic_mae_b'), \n",
        "  F.col('phonetic_nome_b')\n",
        "))\n",
        "\n",
        "result_linkage1.show()"
      ],
      "execution_count": 145,
      "outputs": [
        {
          "output_type": "stream",
          "name": "stdout",
          "text": [
            "+--------------+-----------+--------------------+---------------+----------------+---------------+--------------+--------------+-----------+--------------------+--------------------+----------------+--------------------+---------------+-------------------+\n",
            "|         cpf_a|data_nasc_a|              nome_a|          mae_a|tipo_sanguineo_a|phonetic_nome_a|phonetic_mae_a|         cpf_b|data_nasc_b|              nome_b|               mae_b|tipo_sanguineo_b|     phonetic_nome_b| phonetic_mae_b|         similarity|\n",
            "+--------------+-----------+--------------------+---------------+----------------+---------------+--------------+--------------+-----------+--------------------+--------------------+----------------+--------------------+---------------+-------------------+\n",
            "|097.627.958-49| 10/09/1948|Vicente Oliver Mo...|Louise Beatriz |             AB-| FSNT OLFR MNTR|      LS BTRS |506.865.202-46| 22/11/1965|Felipe Bruno dos ...|Isabelle Marcia A...|             AB-|     FLP BRN TS SNTS|ISBL MRX ANTNL | 0.6141506373390432|\n",
            "|097.627.958-49| 10/09/1948|Vicente Oliver Mo...|Louise Beatriz |             AB-| FSNT OLFR MNTR|      LS BTRS |325.828.867-42|       null|Marcio Heitor Sil...|       Alana Isadora|             AB-|        MRS HTR SLFR|       ALN ISTR| 0.5585523373566851|\n",
            "|097.627.958-49| 10/09/1948|Vicente Oliver Mo...|Louise Beatriz |             AB-| FSNT OLFR MNTR|      LS BTRS |284.536.218-88| 23/09/1961|Theo Mario Victor...|  Caroline Gabriela |              A-|      0 MR FKTR BRBS|     KRLN KBRL | 0.5182246671739424|\n",
            "|097.627.958-49| 10/09/1948|Vicente Oliver Mo...|Louise Beatriz |             AB-| FSNT OLFR MNTR|      LS BTRS |390.375.925-20| 11/05/1981|Pietro Henrique d...|       Tereza Bruna |             AB-|       PTR HNRK T PL|       TRS BRN | 0.6765830988657076|\n",
            "|097.627.958-49| 10/09/1948|Vicente Oliver Mo...|Louise Beatriz |             AB-| FSNT OLFR MNTR|      LS BTRS |756.005.387-40| 14/12/1941|Kaique Thiago de ...|      Alice Leticia |              A-|          KK 0K T PL|       ALS LTX | 0.5406696363218102|\n",
            "|097.627.958-49| 10/09/1948|Vicente Oliver Mo...|Louise Beatriz |             AB-| FSNT OLFR MNTR|      LS BTRS |551.341.139-39| 16/02/1999|Gabriel Erick Oli...|Elena Agatha Tere...|              O+|  KBRL ERK OLFR T LS| ELN AK0 TRSNH | 0.4627418899761895|\n",
            "|097.627.958-49| 10/09/1948|Vicente Oliver Mo...|Louise Beatriz |             AB-| FSNT OLFR MNTR|      LS BTRS |756.048.583-90| 11/03/1982|Luan Caue Anthony...|Vanessa Camila Ni...|            null|      LN K AN0N T MT|   FNS KML NKL | 0.4326382353556267|\n",
            "|097.627.958-49| 10/09/1948|Vicente Oliver Mo...|Louise Beatriz |             AB-| FSNT OLFR MNTR|      LS BTRS |386.351.591-95| 13/01/1978|        Enzo D Rocha|Isabelle Maite Rosa |            null|            ENS T RX|    ISBL MT RS | 0.5026797477884434|\n",
            "|097.627.958-49| 10/09/1948|Vicente Oliver Mo...|Louise Beatriz |             AB-| FSNT OLFR MNTR|      LS BTRS |885.264.747-31| 27/01/2001|Cesar Matheus Cau...|      Sophie Bianca |            null|     SSR M0S K RTRKS|        SF BNK |0.44571831147918095|\n",
            "|097.627.958-49| 10/09/1948|Vicente Oliver Mo...|Louise Beatriz |             AB-| FSNT OLFR MNTR|      LS BTRS |489.611.821-96|       null|   Caua Isaac Castro|Giovana Antonella...|            null|          K ISK KSTR| JFN ANTNL LRS |0.33452625135276454|\n",
            "|097.627.958-49| 10/09/1948|Vicente Oliver Mo...|Louise Beatriz |             AB-| FSNT OLFR MNTR|      LS BTRS |281.229.310-14| 08/11/1947|Gabriel Caua Marc...|Mariana Mirella N...|            null|KBRL K MRKS FNSS ...|   MRN MRL NTL | 0.4178004091047569|\n",
            "|097.627.958-49| 10/09/1948|Vicente Oliver Mo...|Louise Beatriz |             AB-| FSNT OLFR MNTR|      LS BTRS |492.264.809-74| 18/04/1969|Danilo Severino d...|     Rita Ayla Sara |              B+|      TNL SFRN T KRS|      RT AL SR | 0.4889352126670967|\n",
            "|097.627.958-49| 10/09/1948|Vicente Oliver Mo...|Louise Beatriz |             AB-| FSNT OLFR MNTR|      LS BTRS |816.876.443-90| 27/03/1972|   Samuel Noah Lopes|       Louise Joana |              O-|           SML N LPS|         LS JN | 0.5432225046589922|\n",
            "|097.627.958-49| 10/09/1948|Vicente Oliver Mo...|Louise Beatriz |             AB-| FSNT OLFR MNTR|      LS BTRS |327.630.596-86| 10/10/1984|Juan Raimundo Osv...|      Heloisa Luzia |              B+|  JN RMNT OSFLT KRTS|        HLS LS | 0.5337168021513349|\n",
            "|097.627.958-49| 10/09/1948|Vicente Oliver Mo...|Louise Beatriz |             AB-| FSNT OLFR MNTR|      LS BTRS |181.410.022-95| 05/01/1973|Leandro Cesar Jor...|Jessica Jaqueline...|              O-|  LNTR SSR JRJ TRMNT|  JSK JKLN FLF | 0.4604253802200661|\n",
            "|097.627.958-49| 10/09/1948|Vicente Oliver Mo...|Louise Beatriz |             AB-| FSNT OLFR MNTR|      LS BTRS |843.458.724-64| 12/09/1996|Caio Julio Kaue Lima|Lara Sabrina Giov...|             AB+|           K JL K LM|   LR SBRN JFN | 0.5981997337069801|\n",
            "|097.627.958-49| 10/09/1948|Vicente Oliver Mo...|Louise Beatriz |             AB-| FSNT OLFR MNTR|      LS BTRS |134.836.403-39| 21/06/1963|Guilherme Rafael ...|Leticia Isabelly ...|              A-|  KLHRM RFL KFN MNTR| LTX ISBL STFN | 0.5642063430223786|\n",
            "|097.627.958-49| 10/09/1948|Vicente Oliver Mo...|Louise Beatriz |             AB-| FSNT OLFR MNTR|      LS BTRS |557.744.519-17| 09/02/1947|Nicolas Edson Araujo|     Gabriela Sueli |              O-|       NKLS ETSN ARJ|       KBRL SL | 0.5104465649755505|\n",
            "|097.627.958-49| 10/09/1948|Vicente Oliver Mo...|Louise Beatriz |             AB-| FSNT OLFR MNTR|      LS BTRS |254.321.926-91| 25/05/1988|Cesar Nelson Dani...|  Rita Rafaela Lara |             AB+|    SSR NLSN TNL BRT|     RT RFL LR | 0.6006685276612813|\n",
            "|097.627.958-49| 10/09/1948|Vicente Oliver Mo...|Louise Beatriz |             AB-| FSNT OLFR MNTR|      LS BTRS |806.443.633-80| 16/02/1941|Rodrigo Erick Rob...|   Nicole Aparecida |              B+|  RTRK ERK RBRT FRTS|     NKL APRST | 0.5234764082083069|\n",
            "+--------------+-----------+--------------------+---------------+----------------+---------------+--------------+--------------+-----------+--------------------+--------------------+----------------+--------------------+---------------+-------------------+\n",
            "only showing top 20 rows\n",
            "\n"
          ]
        }
      ]
    },
    {
      "cell_type": "code",
      "metadata": {
        "id": "rPSOZwJuCXNW",
        "colab": {
          "base_uri": "https://localhost:8080/"
        },
        "outputId": "e4fb8efe-78bd-4733-b946-fb6a0488f0ae"
      },
      "source": [
        "result_linkage1.select([\n",
        "  'nome_a',\n",
        "  'mae_a',\n",
        "  'tipo_sanguineo_a',\n",
        "  'nome_b','mae_b',\n",
        "  'tipo_sanguineo_b',\n",
        "  'similarity'\n",
        "]).show()\n",
        "\n",
        "result_linkage1.count()"
      ],
      "execution_count": 146,
      "outputs": [
        {
          "output_type": "stream",
          "name": "stdout",
          "text": [
            "+--------------------+---------------+----------------+--------------------+--------------------+----------------+-------------------+\n",
            "|              nome_a|          mae_a|tipo_sanguineo_a|              nome_b|               mae_b|tipo_sanguineo_b|         similarity|\n",
            "+--------------------+---------------+----------------+--------------------+--------------------+----------------+-------------------+\n",
            "|Vicente Oliver Mo...|Louise Beatriz |             AB-|Felipe Bruno dos ...|Isabelle Marcia A...|             AB-| 0.6141506373390432|\n",
            "|Vicente Oliver Mo...|Louise Beatriz |             AB-|Marcio Heitor Sil...|       Alana Isadora|             AB-| 0.5585523373566851|\n",
            "|Vicente Oliver Mo...|Louise Beatriz |             AB-|Theo Mario Victor...|  Caroline Gabriela |              A-| 0.5182246671739424|\n",
            "|Vicente Oliver Mo...|Louise Beatriz |             AB-|Pietro Henrique d...|       Tereza Bruna |             AB-| 0.6765830988657076|\n",
            "|Vicente Oliver Mo...|Louise Beatriz |             AB-|Kaique Thiago de ...|      Alice Leticia |              A-| 0.5406696363218102|\n",
            "|Vicente Oliver Mo...|Louise Beatriz |             AB-|Gabriel Erick Oli...|Elena Agatha Tere...|              O+| 0.4627418899761895|\n",
            "|Vicente Oliver Mo...|Louise Beatriz |             AB-|Luan Caue Anthony...|Vanessa Camila Ni...|            null| 0.4326382353556267|\n",
            "|Vicente Oliver Mo...|Louise Beatriz |             AB-|        Enzo D Rocha|Isabelle Maite Rosa |            null| 0.5026797477884434|\n",
            "|Vicente Oliver Mo...|Louise Beatriz |             AB-|Cesar Matheus Cau...|      Sophie Bianca |            null|0.44571831147918095|\n",
            "|Vicente Oliver Mo...|Louise Beatriz |             AB-|   Caua Isaac Castro|Giovana Antonella...|            null|0.33452625135276454|\n",
            "|Vicente Oliver Mo...|Louise Beatriz |             AB-|Gabriel Caua Marc...|Mariana Mirella N...|            null| 0.4178004091047569|\n",
            "|Vicente Oliver Mo...|Louise Beatriz |             AB-|Danilo Severino d...|     Rita Ayla Sara |              B+| 0.4889352126670967|\n",
            "|Vicente Oliver Mo...|Louise Beatriz |             AB-|   Samuel Noah Lopes|       Louise Joana |              O-| 0.5432225046589922|\n",
            "|Vicente Oliver Mo...|Louise Beatriz |             AB-|Juan Raimundo Osv...|      Heloisa Luzia |              B+| 0.5337168021513349|\n",
            "|Vicente Oliver Mo...|Louise Beatriz |             AB-|Leandro Cesar Jor...|Jessica Jaqueline...|              O-| 0.4604253802200661|\n",
            "|Vicente Oliver Mo...|Louise Beatriz |             AB-|Caio Julio Kaue Lima|Lara Sabrina Giov...|             AB+| 0.5981997337069801|\n",
            "|Vicente Oliver Mo...|Louise Beatriz |             AB-|Guilherme Rafael ...|Leticia Isabelly ...|              A-| 0.5642063430223786|\n",
            "|Vicente Oliver Mo...|Louise Beatriz |             AB-|Nicolas Edson Araujo|     Gabriela Sueli |              O-| 0.5104465649755505|\n",
            "|Vicente Oliver Mo...|Louise Beatriz |             AB-|Cesar Nelson Dani...|  Rita Rafaela Lara |             AB+| 0.6006685276612813|\n",
            "|Vicente Oliver Mo...|Louise Beatriz |             AB-|Rodrigo Erick Rob...|   Nicole Aparecida |              B+| 0.5234764082083069|\n",
            "+--------------------+---------------+----------------+--------------------+--------------------+----------------+-------------------+\n",
            "only showing top 20 rows\n",
            "\n"
          ]
        },
        {
          "output_type": "execute_result",
          "data": {
            "text/plain": [
              "76140"
            ]
          },
          "metadata": {},
          "execution_count": 146
        }
      ]
    },
    {
      "cell_type": "code",
      "metadata": {
        "colab": {
          "base_uri": "https://localhost:8080/"
        },
        "id": "gwiR2dzuYMXx",
        "outputId": "d7c2d56e-4e86-4d8a-c700-aeaa9eefc2d5"
      },
      "source": [
        "result_linkage1.select([\n",
        "  'nome_a',\n",
        "  'mae_a',\n",
        "  'tipo_sanguineo_a',\n",
        "  'nome_b','mae_b',\n",
        "  'tipo_sanguineo_b',\n",
        "  'similarity'\n",
        "]).orderBy('similarity', ascending=[0]).show()"
      ],
      "execution_count": 147,
      "outputs": [
        {
          "output_type": "stream",
          "name": "stdout",
          "text": [
            "+--------------------+--------------------+----------------+--------------------+--------------------+----------------+----------+\n",
            "|              nome_a|               mae_a|tipo_sanguineo_a|              nome_b|               mae_b|tipo_sanguineo_b|similarity|\n",
            "+--------------------+--------------------+----------------+--------------------+--------------------+----------------+----------+\n",
            "|Theo Sebastiao da...|Isadora Lucia Joana |              A-|Theo Sebastiao da...|Isadora Lucia Joana |              A-|       1.0|\n",
            "|Severino Ruan Cal...|   Juliana Jennifer |              A+|Severino Ruan Cal...|   Juliana Jennifer |              A+|       1.0|\n",
            "|   Breno Bruno Pinto|     Jessica Tereza |             AB+|   Breno Bruno Pinto|     Jessica Tereza |             AB+|       1.0|\n",
            "|Jose Caua Vicente...|      Luzia Luciana |              O-|Jose Caua Vicente...|      Luzia Luciana |              O-|       1.0|\n",
            "|Alexandre Bruno M...|   Isabelly Kamilly |              B-|Alexandre Bruno M...|   Isabelly Kamilly |              B-|       1.0|\n",
            "|Fernando Cesar Fi...|Bruna Esther Evelyn |             AB+|Fernando Cesar Fi...|Bruna Esther Evelyn |             AB+|       1.0|\n",
            "|Caio Julio Kaue Lima|Lara Sabrina Giov...|             AB+|Caio Julio Kaue Lima|Lara Sabrina Giov...|             AB+|       1.0|\n",
            "|Danilo Severino d...|     Rita Ayla Sara |              B+|Danilo Severino d...|     Rita Ayla Sara |              B+|       1.0|\n",
            "|Felipe Bruno dos ...|Isabelle Marcia A...|             AB-|Felipe Bruno dos ...|Isabelle Marcia A...|             AB-|       1.0|\n",
            "|Juan Raimundo Osv...|      Heloisa Luzia |              B+|Juan Raimundo Osv...|      Heloisa Luzia |              B+|       1.0|\n",
            "|Erick Elias Ryan ...|Raimunda Vitoria ...|             AB-|Erick Elias Ryan ...|Raimunda Vitoria ...|             AB-|       1.0|\n",
            "|Kaique Thiago de ...|      Alice Leticia |              A-|Kaique Thiago de ...|      Alice Leticia |              A-|       1.0|\n",
            "|Guilherme Rafael ...|Leticia Isabelly ...|              A-|Guilherme Rafael ...|Leticia Isabelly ...|              A-|       1.0|\n",
            "|Nicolas Edson Araujo|     Gabriela Sueli |              O-|Nicolas Edson Araujo|     Gabriela Sueli |              O-|       1.0|\n",
            "|Otavio Bernardo d...| Catarina Cristiane |              B+|Otavio Bernardo d...| Catarina Cristiane |              B+|       1.0|\n",
            "|Rodrigo Erick Rob...|   Nicole Aparecida |              B+|Rodrigo Erick Rob...|   Nicole Aparecida |              B+|       1.0|\n",
            "|Erick Bryan Julio...|   Regina Alice Ana |             AB+|Erick Bryan Julio...|   Regina Alice Ana |             AB+|       1.0|\n",
            "|Leandro Cesar Jor...|Jessica Jaqueline...|              O-|Leandro Cesar Jor...|Jessica Jaqueline...|              O-|       1.0|\n",
            "|Bento Kaue Gael d...|Rosa Rafaela Fabi...|              A-|Bento Kaue Gael d...|Rosa Rafaela Fabi...|              A-|       1.0|\n",
            "|Theo Mario Victor...|  Caroline Gabriela |              A-|Theo Mario Victor...|  Caroline Gabriela |              A-|       1.0|\n",
            "+--------------------+--------------------+----------------+--------------------+--------------------+----------------+----------+\n",
            "only showing top 20 rows\n",
            "\n"
          ]
        }
      ]
    },
    {
      "cell_type": "markdown",
      "metadata": {
        "id": "7SjHX9kY7CG7"
      },
      "source": [
        "### Excluding duplicates from B in A"
      ]
    },
    {
      "cell_type": "code",
      "metadata": {
        "id": "-2-dP5vfCXQ5",
        "colab": {
          "base_uri": "https://localhost:8080/"
        },
        "outputId": "b14ccbc5-690f-4248-94a3-51e3b434254e"
      },
      "source": [
        "# Removing duplicate data from crossjoin. We just want data from dataset B included in dataset A\n",
        "result_linkage_tratado_b1 = result_linkage1.orderBy(\n",
        "  'similarity', \n",
        "  ascending=[0]\n",
        ").drop_duplicates(['nome_b'])\n",
        "\n",
        "print(result_linkage_tratado_b1.count())\n",
        "\n",
        "result_linkage_tratado_b1.select([\n",
        "  'nome_a',\n",
        "  'nome_b',\n",
        "  'mae_a',\n",
        "  'mae_b',\n",
        "  'cpf_a',\n",
        "  'cpf_b',\n",
        "  'data_nasc_a',\n",
        "  'data_nasc_b',\n",
        "  'tipo_sanguineo_a',\n",
        "  'tipo_sanguineo_b',\n",
        "  'similarity'\n",
        "]).orderBy('similarity', ascending=[0]).limit(50).show()"
      ],
      "execution_count": 151,
      "outputs": [
        {
          "output_type": "stream",
          "name": "stdout",
          "text": [
            "127\n",
            "+--------------------+--------------------+--------------------+--------------------+--------------+--------------+-----------+-----------+----------------+----------------+----------+\n",
            "|              nome_a|              nome_b|               mae_a|               mae_b|         cpf_a|         cpf_b|data_nasc_a|data_nasc_b|tipo_sanguineo_a|tipo_sanguineo_b|similarity|\n",
            "+--------------------+--------------------+--------------------+--------------------+--------------+--------------+-----------+-----------+----------------+----------------+----------+\n",
            "|Leandro Cesar Jor...|Leandro Cesar Jor...|Jessica Jaqueline...|Jessica Jaqueline...|181.410.022-95|181.410.022-95| 05/01/1973| 05/01/1973|              O-|              O-|       1.0|\n",
            "|Sebastiao Kaue da...|Sebastiao Kaue da...| Aurora Vera Sophia | Aurora Vera Sophia |408.365.694-82|408.365.694-82| 25/03/1951| 25/03/1951|              A-|              A-|       1.0|\n",
            "|Bento Kaue Gael d...|Bento Kaue Gael d...|Rosa Rafaela Fabi...|Rosa Rafaela Fabi...|514.481.204-03|514.481.204-03| 08/06/1959| 08/06/1959|              A-|              A-|       1.0|\n",
            "|Rafael Noah Diego...|Rafael Noah Diego...|  Emanuelly Hadassa |  Emanuelly Hadassa |823.589.295-22|823.589.295-22| 22/08/1964| 22/08/1964|             AB-|             AB-|       1.0|\n",
            "|Otavio Bernardo d...|Otavio Bernardo d...| Catarina Cristiane | Catarina Cristiane |895.160.103-00|895.160.103-00| 10/07/1945| 10/07/1945|              B+|              B+|       1.0|\n",
            "|Theo Mario Raul S...|Theo Mario Raul S...|    Luzia Ana Maite |    Luzia Ana Maite |473.096.540-05|473.096.540-05| 26/03/1985| 26/03/1985|              B-|              B-|       1.0|\n",
            "|Caio Julio Kaue Lima|Caio Julio Kaue Lima|Lara Sabrina Giov...|Lara Sabrina Giov...|843.458.724-64|843.458.724-64| 12/09/1996| 12/09/1996|             AB+|             AB+|       1.0|\n",
            "|Ryan Benicio Cort...|Ryan Benicio Cort...|Alice Marcia Flavia |Alice Marcia Flavia |998.958.182-70|998.958.182-70| 06/01/1977| 06/01/1977|              A-|              A-|       1.0|\n",
            "|Edson Sebastiao N...|Edson Sebastiao N...|Raquel Luiza Aurora |Raquel Luiza Aurora |846.921.875-14|846.921.875-14| 09/10/1999| 09/10/1999|              O-|              O-|       1.0|\n",
            "|Gustavo Levi Mano...|Gustavo Levi Mano...|Joana Cristiane S...|Joana Cristiane S...|758.219.979-09|758.219.979-09| 22/03/1980| 22/03/1980|              B-|              B-|       1.0|\n",
            "|Marcelo Benedito ...|Marcelo Benedito ...|Pietra Sebastiana...|Pietra Sebastiana...|571.307.021-25|571.307.021-25| 05/01/1984| 05/01/1984|             AB-|             AB-|       1.0|\n",
            "|Davi Nelson Caldeira|Davi Nelson Caldeira|      Marina Fatima |      Marina Fatima |227.774.367-46|227.774.367-46| 01/08/1985| 01/08/1985|              O+|              O+|       1.0|\n",
            "|Erick Elias Ryan ...|Erick Elias Ryan ...|Raimunda Vitoria ...|Raimunda Vitoria ...|821.284.216-91|821.284.216-91| 20/09/1955| 20/09/1955|             AB-|             AB-|       1.0|\n",
            "|   Breno Bruno Pinto|   Breno Bruno Pinto|     Jessica Tereza |     Jessica Tereza |735.197.681-35|735.197.681-35| 17/07/1955| 17/07/1955|             AB+|             AB+|       1.0|\n",
            "|Guilherme Rafael ...|Guilherme Rafael ...|Leticia Isabelly ...|Leticia Isabelly ...|134.836.403-39|134.836.403-39| 21/06/1963| 21/06/1963|              A-|              A-|       1.0|\n",
            "|Lorenzo Otavio Gomes|Lorenzo Otavio Gomes|       Agatha Marli |       Agatha Marli |558.220.658-21|558.220.658-21| 26/01/1979| 26/01/1979|              A+|              A+|       1.0|\n",
            "|Jose Caua Vicente...|Jose Caua Vicente...|      Luzia Luciana |      Luzia Luciana |295.718.231-98|295.718.231-98| 08/04/1966| 08/04/1966|              O-|              O-|       1.0|\n",
            "|Rodrigo Erick Rob...|Rodrigo Erick Rob...|   Nicole Aparecida |   Nicole Aparecida |806.443.633-80|806.443.633-80| 16/02/1941| 16/02/1941|              B+|              B+|       1.0|\n",
            "|Iago Sergio da Co...|Iago Sergio da Co...|      Sara Benedita |      Sara Benedita |792.235.438-00|792.235.438-00| 21/10/1939| 21/10/1939|             AB-|             AB-|       1.0|\n",
            "|Roberto Daniel Ga...|Roberto Daniel Ga...|   Juliana Isabelly |   Juliana Isabelly |885.720.350-60|885.720.350-60| 19/10/1962| 19/10/1962|              B+|              B+|       1.0|\n",
            "+--------------------+--------------------+--------------------+--------------------+--------------+--------------+-----------+-----------+----------------+----------------+----------+\n",
            "only showing top 20 rows\n",
            "\n"
          ]
        }
      ]
    },
    {
      "cell_type": "markdown",
      "metadata": {
        "id": "OeZjBv9LgCnR"
      },
      "source": [
        "#### Result shows that:\n",
        "\n",
        "*   Similarity > 0.7 e < 0.75 --> There are some similar attributes\n",
        "*   Similarity >=0.75 --> Sometimes the name, and/or mothers name and/or blood type matches, but the ID is different.\n",
        "\n",
        "On the next strategy, we will weight the attributes to try better results."
      ]
    },
    {
      "cell_type": "code",
      "metadata": {
        "id": "k_KQ1SKUkMVf"
      },
      "source": [
        "result_linkage_tratado_b1=result_linkage_tratado_b1.select([\n",
        "  'nome_a',\n",
        "  'nome_b',\n",
        "  'mae_a',\n",
        "  'mae_b',\n",
        "  'cpf_a',\n",
        "  'cpf_b',\n",
        "  'data_nasc_a',\n",
        "  'data_nasc_b',\n",
        "  'tipo_sanguineo_a',\n",
        "  'tipo_sanguineo_b',\n",
        "  'phonetic_nome_a',\n",
        "  'phonetic_nome_b',\n",
        "  'phonetic_mae_a',\n",
        "  'phonetic_mae_b',\n",
        "  'similarity'\n",
        "])\n",
        "M1_results_for_accuracy_calc = result_linkage_tratado_b1.select([\n",
        "  'cpf_a',\n",
        "  'cpf_b',\n",
        "  'similarity'\n",
        "]).orderBy('similarity', ascending=[0])"
      ],
      "execution_count": 152,
      "outputs": []
    },
    {
      "cell_type": "markdown",
      "metadata": {
        "id": "aLaff9V_9nHN"
      },
      "source": [
        "\n",
        "## SECOND EVALUATION METHOD - Jellyfish with Jaro Winkler weigthed attributes\n",
        "\n",
        "\n",
        "\n"
      ]
    },
    {
      "cell_type": "markdown",
      "metadata": {
        "id": "TxCDlQpICW0W"
      },
      "source": [
        "### Selecting the attributes which will be compared"
      ]
    },
    {
      "cell_type": "code",
      "metadata": {
        "id": "Ipftwa8J-CHA",
        "colab": {
          "base_uri": "https://localhost:8080/"
        },
        "outputId": "d53b79d3-4f94-4c24-ef42-2997e2996d99"
      },
      "source": [
        "df_base_a_analise2 = df_base_a.select(['cpf_a', 'data_nasc_a','nome_a', 'mae_a','tipo_sanguineo_a'])\n",
        "df_base_b_analise2 = df_base_b.select(['cpf_b','data_nasc_b', 'nome_b','mae_b', 'tipo_sanguineo_b'])\n",
        "print(df_base_a_analise2.count())\n",
        "print(df_base_b_analise2.count())\n",
        "print(df_base_a_analise2.filter((df_base_a_analise2['nome_a'].isNull())).count())\n",
        "print(df_base_b_analise2.filter((df_base_b_analise2['nome_b'].isNull())).count())"
      ],
      "execution_count": 163,
      "outputs": [
        {
          "output_type": "stream",
          "name": "stdout",
          "text": [
            "540\n",
            "143\n",
            "0\n",
            "2\n"
          ]
        }
      ]
    },
    {
      "cell_type": "code",
      "metadata": {
        "id": "3OUy-SQE-i54",
        "colab": {
          "base_uri": "https://localhost:8080/"
        },
        "outputId": "9e460b32-fcb0-4158-eaea-7457d8e95b62"
      },
      "source": [
        "df_base_b_analise2 = df_base_b_analise2.fillna({'nome_b':'N/A'})\n",
        "print(df_base_a_analise2.filter((df_base_a_analise2['nome_a'].isNull())).count())\n",
        "print(df_base_b_analise2.filter((df_base_b_analise2['nome_b'].isNull())).count())"
      ],
      "execution_count": 164,
      "outputs": [
        {
          "output_type": "stream",
          "name": "stdout",
          "text": [
            "0\n",
            "0\n"
          ]
        }
      ]
    },
    {
      "cell_type": "code",
      "metadata": {
        "id": "UPHG4e8TAtee",
        "colab": {
          "base_uri": "https://localhost:8080/"
        },
        "outputId": "0c020113-13ad-4287-8d20-ff98435453b7"
      },
      "source": [
        "df_base_b_analise2.filter(df_base_b_analise2['nome_b'] == 'N/A').show()"
      ],
      "execution_count": 165,
      "outputs": [
        {
          "output_type": "stream",
          "name": "stdout",
          "text": [
            "+--------------+-----------+------+--------------------+----------------+\n",
            "|         cpf_b|data_nasc_b|nome_b|               mae_b|tipo_sanguineo_b|\n",
            "+--------------+-----------+------+--------------------+----------------+\n",
            "|880.960.378-89| 04/07/1973|   N/A|Sophia Bruna Manu...|             AB-|\n",
            "|071.707.642-37| 06/06/1949|   N/A|Pietra Tatiane Ra...|              O-|\n",
            "+--------------+-----------+------+--------------------+----------------+\n",
            "\n"
          ]
        }
      ]
    },
    {
      "cell_type": "markdown",
      "metadata": {
        "id": "C24IgHRJNTCA"
      },
      "source": [
        "### Generating phonetics"
      ]
    },
    {
      "cell_type": "code",
      "metadata": {
        "id": "Qv3p6NqIBkdi",
        "colab": {
          "base_uri": "https://localhost:8080/"
        },
        "outputId": "58de3ce9-217f-483f-a3c4-455845b8a22e"
      },
      "source": [
        "df_base_a_analise2 = df_base_a_analise2.withColumn('phonetic_nome_a', udf_criaMetaphone(F.col('nome_a')))\n",
        "df_base_a_analise2 = df_base_a_analise2.withColumn('phonetic_mae_a', udf_criaMetaphone(F.col('mae_a')))\n",
        "\n",
        "df_base_b_analise2 = df_base_b_analise2.withColumn('phonetic_nome_b', udf_criaMetaphone(F.col('nome_b')))\n",
        "df_base_b_analise2 = df_base_b_analise2.withColumn('phonetic_mae_b', udf_criaMetaphone(F.col('mae_b')))\n",
        "df_base_b_analise2.show()\n"
      ],
      "execution_count": 166,
      "outputs": [
        {
          "output_type": "stream",
          "name": "stdout",
          "text": [
            "+--------------+-----------+--------------------+--------------------+----------------+--------------------+---------------+\n",
            "|         cpf_b|data_nasc_b|              nome_b|               mae_b|tipo_sanguineo_b|     phonetic_nome_b| phonetic_mae_b|\n",
            "+--------------+-----------+--------------------+--------------------+----------------+--------------------+---------------+\n",
            "|506.865.202-46| 22/11/1965|Felipe Bruno dos ...|Isabelle Marcia A...|             AB-|     FLP BRN TS SNTS|ISBL MRX ANTNL |\n",
            "|325.828.867-42|       null|Marcio Heitor Sil...|       Alana Isadora|             AB-|        MRS HTR SLFR|       ALN ISTR|\n",
            "|284.536.218-88| 23/09/1961|Theo Mario Victor...|  Caroline Gabriela |              A-|      0 MR FKTR BRBS|     KRLN KBRL |\n",
            "|390.375.925-20| 11/05/1981|Pietro Henrique d...|       Tereza Bruna |             AB-|       PTR HNRK T PL|       TRS BRN |\n",
            "|756.005.387-40| 14/12/1941|Kaique Thiago de ...|      Alice Leticia |              A-|          KK 0K T PL|       ALS LTX |\n",
            "|551.341.139-39| 16/02/1999|Gabriel Erick Oli...|Elena Agatha Tere...|              O+|  KBRL ERK OLFR T LS| ELN AK0 TRSNH |\n",
            "|756.048.583-90| 11/03/1982|Luan Caue Anthony...|Vanessa Camila Ni...|            null|      LN K AN0N T MT|   FNS KML NKL |\n",
            "|386.351.591-95| 13/01/1978|        Enzo D Rocha|Isabelle Maite Rosa |            null|            ENS T RX|    ISBL MT RS |\n",
            "|885.264.747-31| 27/01/2001|Cesar Matheus Cau...|      Sophie Bianca |            null|     SSR M0S K RTRKS|        SF BNK |\n",
            "|489.611.821-96|       null|   Caua Isaac Castro|Giovana Antonella...|            null|          K ISK KSTR| JFN ANTNL LRS |\n",
            "|281.229.310-14| 08/11/1947|Gabriel Caua Marc...|Mariana Mirella N...|            null|KBRL K MRKS FNSS ...|   MRN MRL NTL |\n",
            "|492.264.809-74| 18/04/1969|Danilo Severino d...|     Rita Ayla Sara |              B+|      TNL SFRN T KRS|      RT AL SR |\n",
            "|816.876.443-90| 27/03/1972|   Samuel Noah Lopes|       Louise Joana |              O-|           SML N LPS|         LS JN |\n",
            "|327.630.596-86| 10/10/1984|Juan Raimundo Osv...|      Heloisa Luzia |              B+|  JN RMNT OSFLT KRTS|        HLS LS |\n",
            "|181.410.022-95| 05/01/1973|Leandro Cesar Jor...|Jessica Jaqueline...|              O-|  LNTR SSR JRJ TRMNT|  JSK JKLN FLF |\n",
            "|843.458.724-64| 12/09/1996|Caio Julio Kaue Lima|Lara Sabrina Giov...|             AB+|           K JL K LM|   LR SBRN JFN |\n",
            "|134.836.403-39| 21/06/1963|Guilherme Rafael ...|Leticia Isabelly ...|              A-|  KLHRM RFL KFN MNTR| LTX ISBL STFN |\n",
            "|557.744.519-17| 09/02/1947|Nicolas Edson Araujo|     Gabriela Sueli |              O-|       NKLS ETSN ARJ|       KBRL SL |\n",
            "|254.321.926-91| 25/05/1988|Cesar Nelson Dani...|  Rita Rafaela Lara |             AB+|    SSR NLSN TNL BRT|     RT RFL LR |\n",
            "|806.443.633-80| 16/02/1941|Rodrigo Erick Rob...|   Nicole Aparecida |              B+|  RTRK ERK RBRT FRTS|     NKL APRST |\n",
            "+--------------+-----------+--------------------+--------------------+----------------+--------------------+---------------+\n",
            "only showing top 20 rows\n",
            "\n"
          ]
        }
      ]
    },
    {
      "cell_type": "code",
      "metadata": {
        "id": "Qr9dl6UVDSjZ",
        "colab": {
          "base_uri": "https://localhost:8080/"
        },
        "outputId": "dbe80cd1-04a8-4307-ed1c-948f8a44fafc"
      },
      "source": [
        "df_base_b_analise2.filter(df_base_b_analise2['nome_b'] == 'N/A').show()"
      ],
      "execution_count": 167,
      "outputs": [
        {
          "output_type": "stream",
          "name": "stdout",
          "text": [
            "+--------------+-----------+------+--------------------+----------------+---------------+--------------+\n",
            "|         cpf_b|data_nasc_b|nome_b|               mae_b|tipo_sanguineo_b|phonetic_nome_b|phonetic_mae_b|\n",
            "+--------------+-----------+------+--------------------+----------------+---------------+--------------+\n",
            "|880.960.378-89| 04/07/1973|   N/A|Sophia Bruna Manu...|             AB-|              N|   SF BRN MNL |\n",
            "|071.707.642-37| 06/06/1949|   N/A|Pietra Tatiane Ra...|              O-|              N|   PTR TXN RS |\n",
            "+--------------+-----------+------+--------------------+----------------+---------------+--------------+\n",
            "\n"
          ]
        }
      ]
    },
    {
      "cell_type": "markdown",
      "metadata": {
        "id": "c8zZU8CjNlqY"
      },
      "source": [
        "### Performing CrossJoint between datasets\n",
        "\n"
      ]
    },
    {
      "cell_type": "code",
      "metadata": {
        "id": "Y0mgWC2Y9qC2",
        "colab": {
          "base_uri": "https://localhost:8080/"
        },
        "outputId": "f8a1bede-6fbd-49b1-d808-f038aaa94da3"
      },
      "source": [
        "dataset_linkage2 = df_base_a_analise2.crossJoin(df_base_b_analise2)\n",
        "print(dataset_linkage2.count())"
      ],
      "execution_count": 168,
      "outputs": [
        {
          "output_type": "stream",
          "name": "stdout",
          "text": [
            "77220\n"
          ]
        }
      ]
    },
    {
      "cell_type": "markdown",
      "metadata": {
        "id": "_IHXefreOdOA"
      },
      "source": [
        "### Similarity Calculation (Jellyfish with weigthed attributes)"
      ]
    },
    {
      "cell_type": "code",
      "metadata": {
        "id": "RIVUDOo39qDN"
      },
      "source": [
        "# Alterada a funcao unicode por str, pois estava apresentando erro.\n",
        "# Funcao para calcular % do jellyfish.hamming_distance, pois o resultante é a \n",
        "# quantidade de caracteres diferentes entre duas strings.\n",
        "def compare2(data_nasc_a, mae_a, nome_a, tipo_sanguineo_a, phonetic_mae_a, \n",
        "  phonetic_nome_a, data_nasc_b, mae_b, nome_b, tipo_sanguineo_b, phonetic_mae_b, \n",
        "  phonetic_nome_b\n",
        "):\n",
        "  sim = 0\n",
        "  sim_nom_mae = 0\n",
        "  sim_nom_nome = 0\n",
        "  sim_nom_ph_mae = 0\n",
        "  sim_nom_ph_nome = 0\n",
        "  sim_cat_dtnasc = 0\n",
        "  sim_cat_sang = 0\n",
        "  # Comparando atributos nominais\n",
        "  sim_nom_mae = jellyfish.jaro_winkler(str(mae_a), str(mae_b))\n",
        "  sim_nom_nome = jellyfish.jaro_winkler(str(nome_a), str(nome_b))\n",
        "  sim_nom_ph_mae = jellyfish.jaro_winkler(str(phonetic_mae_a), str(phonetic_mae_b))\n",
        "  sim_nom_ph_nome = jellyfish.jaro_winkler(str(phonetic_nome_a), str(phonetic_nome_b))\n",
        "\n",
        "  \n",
        "  # Comparando categorias\n",
        "  # Hamming é uma distancia que representa a qtde de caracteres diferetes entre 2 strings.\n",
        "  # Foi calculado o % com relação a string de maior caractere e para saber a similiarade, precisamos\n",
        "  # encontrar o complemento da medida.\n",
        "  # sim_cat não é calculado se a \"data_nasc\" ou \"tipo_sanguineo\" de uma das bases estiver vazia \n",
        "  \n",
        "  if not((data_nasc_a) is None) and not((data_nasc_b) is None):\n",
        "    sim_cat_dtnasc = 1 - (jellyfish.hamming_distance(str(data_nasc_a), str(data_nasc_b))) \\\n",
        "    /(max(len(data_nasc_a),len(data_nasc_b)))\n",
        "  if not((tipo_sanguineo_a) is None) and not((tipo_sanguineo_b) is None):\n",
        "    sim_cat_sang = 1 - (jellyfish.hamming_distance(str(tipo_sanguineo_a), str(tipo_sanguineo_b))) \\\n",
        "    /(max(len(tipo_sanguineo_a),len(tipo_sanguineo_b)))\n",
        "  \n",
        "  #Weights:\n",
        "  P_mae = 4\n",
        "  P_nome = 5\n",
        "  P_ph_mae = 4\n",
        "  P_ph_nome = 5\n",
        "  P_data_nasc = 4\n",
        "  P_tipo_sang = 3\n",
        "  P_total = P_mae + P_nome + P_ph_mae + P_ph_nome + P_data_nasc + P_tipo_sang\n",
        "  \n",
        " # Weigth Average\n",
        "  sim = str(abs(float(\n",
        "    sim_nom_mae*P_mae + \\\n",
        "    sim_nom_nome*P_nome + \\\n",
        "    sim_nom_ph_mae*P_ph_mae + \\\n",
        "    sim_nom_ph_nome*P_ph_nome + \\\n",
        "    sim_cat_dtnasc*P_data_nasc + \\\n",
        "    sim_cat_sang*P_tipo_sang\n",
        "  )/P_total))\n",
        "  \n",
        "  return sim\n",
        "udf_compare2 = F.udf(compare2, StringType())"
      ],
      "execution_count": 179,
      "outputs": []
    },
    {
      "cell_type": "code",
      "metadata": {
        "id": "EP9xFyIC9qDS"
      },
      "source": [
        "result_linkage2 = dataset_linkage2.withColumn('similarity', udf_compare2(\n",
        "  F.col('data_nasc_a'), \n",
        "  F.col('mae_a'), \n",
        "  F.col('nome_a'), \n",
        "  F.col('tipo_sanguineo_a'), \n",
        "  F.col('phonetic_mae_a'), \n",
        "  F.col('phonetic_nome_a'),\n",
        "  F.col('data_nasc_b'), \n",
        "  F.col('mae_b'), \n",
        "  F.col('nome_b'), \n",
        "  F.col('tipo_sanguineo_b'), \n",
        "  F.col('phonetic_mae_b'), \n",
        "  F.col('phonetic_nome_b')\n",
        "))"
      ],
      "execution_count": 170,
      "outputs": []
    },
    {
      "cell_type": "code",
      "metadata": {
        "id": "YnfewePX9qDX",
        "colab": {
          "base_uri": "https://localhost:8080/"
        },
        "outputId": "c3ee4350-cd15-4e97-ea8d-21f594c5652d"
      },
      "source": [
        "result_linkage2.select([\n",
        "  'nome_a',\n",
        "  'nome_b',\n",
        "  'mae_a',\n",
        "  'mae_b',\n",
        "  'cpf_a',\n",
        "  'cpf_b',\n",
        "  'data_nasc_a',\n",
        "  'data_nasc_b',\n",
        "  'tipo_sanguineo_a',\n",
        "  'tipo_sanguineo_b',\n",
        "  'similarity'\n",
        "]).orderBy('similarity', ascending=[0]).show()"
      ],
      "execution_count": 178,
      "outputs": [
        {
          "output_type": "stream",
          "name": "stdout",
          "text": [
            "+--------------------+--------------------+--------------------+--------------------+--------------+--------------+-----------+-----------+----------------+----------------+----------+\n",
            "|              nome_a|              nome_b|               mae_a|               mae_b|         cpf_a|         cpf_b|data_nasc_a|data_nasc_b|tipo_sanguineo_a|tipo_sanguineo_b|similarity|\n",
            "+--------------------+--------------------+--------------------+--------------------+--------------+--------------+-----------+-----------+----------------+----------------+----------+\n",
            "|Otavio Bernardo d...|Otavio Bernardo d...| Catarina Cristiane | Catarina Cristiane |895.160.103-00|895.160.103-00| 10/07/1945| 10/07/1945|              B+|              B+|       1.0|\n",
            "|Manoel Julio Edua...|Manoel Julio Edua...|Francisca Aurora ...|Francisca Aurora ...|420.868.827-00|420.868.827-00| 24/09/1970| 24/09/1970|              B-|              B-|       1.0|\n",
            "|Erick Bryan Julio...|Erick Bryan Julio...|   Regina Alice Ana |   Regina Alice Ana |248.115.138-00|248.115.138-00| 27/11/1939| 27/11/1939|             AB+|             AB+|       1.0|\n",
            "|Theo Mario Victor...|Theo Mario Victor...|  Caroline Gabriela |  Caroline Gabriela |284.536.218-88|284.536.218-88| 23/09/1961| 23/09/1961|              A-|              A-|       1.0|\n",
            "|Bento Kaue Gael d...|Bento Kaue Gael d...|Rosa Rafaela Fabi...|Rosa Rafaela Fabi...|514.481.204-03|514.481.204-03| 08/06/1959| 08/06/1959|              A-|              A-|       1.0|\n",
            "|Danilo Severino d...|Danilo Severino d...|     Rita Ayla Sara |     Rita Ayla Sara |492.264.809-74|492.264.809-74| 18/04/1969| 18/04/1969|              B+|              B+|       1.0|\n",
            "|Roberto Daniel Ga...|Roberto Daniel Ga...|   Juliana Isabelly |   Juliana Isabelly |885.720.350-60|885.720.350-60| 19/10/1962| 19/10/1962|              B+|              B+|       1.0|\n",
            "|Juan Raimundo Osv...|Juan Raimundo Osv...|      Heloisa Luzia |      Heloisa Luzia |327.630.596-86|327.630.596-86| 10/10/1984| 10/10/1984|              B+|              B+|       1.0|\n",
            "|Marcelo Benedito ...|Marcelo Benedito ...|Pietra Sebastiana...|Pietra Sebastiana...|571.307.021-25|571.307.021-25| 05/01/1984| 05/01/1984|             AB-|             AB-|       1.0|\n",
            "|Caio Julio Kaue Lima|Caio Julio Kaue Lima|Lara Sabrina Giov...|Lara Sabrina Giov...|843.458.724-64|843.458.724-64| 12/09/1996| 12/09/1996|             AB+|             AB+|       1.0|\n",
            "|Pietro Diego Carl...|Pietro Diego Carl...|     Elza Gabrielly |     Elza Gabrielly |506.359.495-63|506.359.495-63| 27/11/1973| 27/11/1973|              A+|              A+|       1.0|\n",
            "|Nicolas Edson Araujo|Nicolas Edson Araujo|     Gabriela Sueli |     Gabriela Sueli |557.744.519-17|557.744.519-17| 09/02/1947| 09/02/1947|              O-|              O-|       1.0|\n",
            "|Erick Elias Ryan ...|Erick Elias Ryan ...|Raimunda Vitoria ...|Raimunda Vitoria ...|821.284.216-91|821.284.216-91| 20/09/1955| 20/09/1955|             AB-|             AB-|       1.0|\n",
            "|Fernando Cesar Fi...|Fernando Cesar Fi...|Bruna Esther Evelyn |Bruna Esther Evelyn |249.678.124-57|249.678.124-57| 08/09/1943| 08/09/1943|             AB+|             AB+|       1.0|\n",
            "|Edson Sebastiao N...|Edson Sebastiao N...|Raquel Luiza Aurora |Raquel Luiza Aurora |846.921.875-14|846.921.875-14| 09/10/1999| 09/10/1999|              O-|              O-|       1.0|\n",
            "|Theo Sebastiao da...|Theo Sebastiao da...|Isadora Lucia Joana |Isadora Lucia Joana |536.503.166-09|536.503.166-09| 24/07/1987| 24/07/1987|              A-|              A-|       1.0|\n",
            "|Severino Ruan Cal...|Severino Ruan Cal...|   Juliana Jennifer |   Juliana Jennifer |390.371.546-89|390.371.546-89| 12/11/1974| 12/11/1974|              A+|              A+|       1.0|\n",
            "|Alexandre Bruno M...|Alexandre Bruno M...|   Isabelly Kamilly |   Isabelly Kamilly |869.696.945-69|869.696.945-69| 07/11/1945| 07/11/1945|              B-|              B-|       1.0|\n",
            "|Anderson Gustavo ...|Anderson Gustavo ...|Vitoria Catarina ...|Vitoria Catarina ...|081.783.955-09|081.783.955-09| 10/11/1943| 10/11/1943|             AB+|             AB+|       1.0|\n",
            "|   Tiago Luan Farias|   Tiago Luan Farias|Isabelle Renata L...|Isabelle Renata L...|877.344.909-13|877.344.909-13| 08/11/1966| 08/11/1966|              O-|              O-|       1.0|\n",
            "+--------------------+--------------------+--------------------+--------------------+--------------+--------------+-----------+-----------+----------------+----------------+----------+\n",
            "only showing top 20 rows\n",
            "\n"
          ]
        }
      ]
    },
    {
      "cell_type": "markdown",
      "metadata": {
        "id": "RelQOeCNHi3S"
      },
      "source": [
        "### Excluding duplicates from B in A"
      ]
    },
    {
      "cell_type": "code",
      "metadata": {
        "id": "LXkf74B0Hi3T",
        "colab": {
          "base_uri": "https://localhost:8080/"
        },
        "outputId": "f56bcc1a-1caf-4f5b-fb38-95c2c98c21d1"
      },
      "source": [
        "# Removing duplicate data from crossjoin. We just want data from dataset B included in dataset A\n",
        "result_linkage_tratado_b2 = result_linkage2.orderBy(\n",
        "  'similarity', \n",
        "  ascending=[0]\n",
        ").drop_duplicates(['nome_b'])\n",
        "\n",
        "result_linkage_tratado_b2.select([\n",
        "  'nome_a',\n",
        "  'nome_b',\n",
        "  'mae_a',\n",
        "  'mae_b',\n",
        "  'cpf_a',\n",
        "  'cpf_b',\n",
        "  'data_nasc_a',\n",
        "  'data_nasc_b',\n",
        "  'tipo_sanguineo_a',\n",
        "  'tipo_sanguineo_b',\n",
        "  'similarity'\n",
        "]).orderBy('similarity', ascending=[0]).limit(50).show()"
      ],
      "execution_count": 180,
      "outputs": [
        {
          "output_type": "stream",
          "name": "stdout",
          "text": [
            "+--------------------+--------------------+--------------------+--------------------+--------------+--------------+-----------+-----------+----------------+----------------+----------+\n",
            "|              nome_a|              nome_b|               mae_a|               mae_b|         cpf_a|         cpf_b|data_nasc_a|data_nasc_b|tipo_sanguineo_a|tipo_sanguineo_b|similarity|\n",
            "+--------------------+--------------------+--------------------+--------------------+--------------+--------------+-----------+-----------+----------------+----------------+----------+\n",
            "|Leandro Cesar Jor...|Leandro Cesar Jor...|Jessica Jaqueline...|Jessica Jaqueline...|181.410.022-95|181.410.022-95| 05/01/1973| 05/01/1973|              O-|              O-|       1.0|\n",
            "|Otavio Bernardo d...|Otavio Bernardo d...| Catarina Cristiane | Catarina Cristiane |895.160.103-00|895.160.103-00| 10/07/1945| 10/07/1945|              B+|              B+|       1.0|\n",
            "|Sebastiao Kaue da...|Sebastiao Kaue da...| Aurora Vera Sophia | Aurora Vera Sophia |408.365.694-82|408.365.694-82| 25/03/1951| 25/03/1951|              A-|              A-|       1.0|\n",
            "|Rafael Noah Diego...|Rafael Noah Diego...|  Emanuelly Hadassa |  Emanuelly Hadassa |823.589.295-22|823.589.295-22| 22/08/1964| 22/08/1964|             AB-|             AB-|       1.0|\n",
            "|Ryan Benicio Cort...|Ryan Benicio Cort...|Alice Marcia Flavia |Alice Marcia Flavia |998.958.182-70|998.958.182-70| 06/01/1977| 06/01/1977|              A-|              A-|       1.0|\n",
            "|Theo Mario Raul S...|Theo Mario Raul S...|    Luzia Ana Maite |    Luzia Ana Maite |473.096.540-05|473.096.540-05| 26/03/1985| 26/03/1985|              B-|              B-|       1.0|\n",
            "|Roberto Daniel Ga...|Roberto Daniel Ga...|   Juliana Isabelly |   Juliana Isabelly |885.720.350-60|885.720.350-60| 19/10/1962| 19/10/1962|              B+|              B+|       1.0|\n",
            "|Gustavo Levi Mano...|Gustavo Levi Mano...|Joana Cristiane S...|Joana Cristiane S...|758.219.979-09|758.219.979-09| 22/03/1980| 22/03/1980|              B-|              B-|       1.0|\n",
            "|Edson Sebastiao N...|Edson Sebastiao N...|Raquel Luiza Aurora |Raquel Luiza Aurora |846.921.875-14|846.921.875-14| 09/10/1999| 09/10/1999|              O-|              O-|       1.0|\n",
            "|Marcelo Benedito ...|Marcelo Benedito ...|Pietra Sebastiana...|Pietra Sebastiana...|571.307.021-25|571.307.021-25| 05/01/1984| 05/01/1984|             AB-|             AB-|       1.0|\n",
            "|Bento Kaue Gael d...|Bento Kaue Gael d...|Rosa Rafaela Fabi...|Rosa Rafaela Fabi...|514.481.204-03|514.481.204-03| 08/06/1959| 08/06/1959|              A-|              A-|       1.0|\n",
            "|Erick Elias Ryan ...|Erick Elias Ryan ...|Raimunda Vitoria ...|Raimunda Vitoria ...|821.284.216-91|821.284.216-91| 20/09/1955| 20/09/1955|             AB-|             AB-|       1.0|\n",
            "|Davi Nelson Caldeira|Davi Nelson Caldeira|      Marina Fatima |      Marina Fatima |227.774.367-46|227.774.367-46| 01/08/1985| 01/08/1985|              O+|              O+|       1.0|\n",
            "|   Breno Bruno Pinto|   Breno Bruno Pinto|     Jessica Tereza |     Jessica Tereza |735.197.681-35|735.197.681-35| 17/07/1955| 17/07/1955|             AB+|             AB+|       1.0|\n",
            "|Guilherme Rafael ...|Guilherme Rafael ...|Leticia Isabelly ...|Leticia Isabelly ...|134.836.403-39|134.836.403-39| 21/06/1963| 21/06/1963|              A-|              A-|       1.0|\n",
            "|Lorenzo Otavio Gomes|Lorenzo Otavio Gomes|       Agatha Marli |       Agatha Marli |558.220.658-21|558.220.658-21| 26/01/1979| 26/01/1979|              A+|              A+|       1.0|\n",
            "|Jose Caua Vicente...|Jose Caua Vicente...|      Luzia Luciana |      Luzia Luciana |295.718.231-98|295.718.231-98| 08/04/1966| 08/04/1966|              O-|              O-|       1.0|\n",
            "|Rodrigo Erick Rob...|Rodrigo Erick Rob...|   Nicole Aparecida |   Nicole Aparecida |806.443.633-80|806.443.633-80| 16/02/1941| 16/02/1941|              B+|              B+|       1.0|\n",
            "|Caio Julio Kaue Lima|Caio Julio Kaue Lima|Lara Sabrina Giov...|Lara Sabrina Giov...|843.458.724-64|843.458.724-64| 12/09/1996| 12/09/1996|             AB+|             AB+|       1.0|\n",
            "|Iago Sergio da Co...|Iago Sergio da Co...|      Sara Benedita |      Sara Benedita |792.235.438-00|792.235.438-00| 21/10/1939| 21/10/1939|             AB-|             AB-|       1.0|\n",
            "+--------------------+--------------------+--------------------+--------------------+--------------+--------------+-----------+-----------+----------------+----------------+----------+\n",
            "only showing top 20 rows\n",
            "\n"
          ]
        }
      ]
    },
    {
      "cell_type": "code",
      "metadata": {
        "id": "ARy42oRYHi3W",
        "colab": {
          "base_uri": "https://localhost:8080/"
        },
        "outputId": "d0d3c093-9280-407f-a5be-0491ee11c02b"
      },
      "source": [
        "result_linkage_tratado_b2.describe('similarity').show()"
      ],
      "execution_count": 181,
      "outputs": [
        {
          "output_type": "stream",
          "name": "stdout",
          "text": [
            "+-------+-------------------+\n",
            "|summary|         similarity|\n",
            "+-------+-------------------+\n",
            "|  count|                128|\n",
            "|   mean| 0.9359984450823515|\n",
            "| stddev|0.08315702442565624|\n",
            "|    min| 0.7377400276052452|\n",
            "|    max|                1.0|\n",
            "+-------+-------------------+\n",
            "\n"
          ]
        }
      ]
    },
    {
      "cell_type": "code",
      "metadata": {
        "id": "w0iAahS8Hi3h"
      },
      "source": [
        "result_linkage_tratado_b2=result_linkage_tratado_b2.select([\n",
        "  'nome_a',\n",
        "  'nome_b',\n",
        "  'mae_a',\n",
        "  'mae_b',\n",
        "  'cpf_a',\n",
        "  'cpf_b',\n",
        "  'data_nasc_a',\n",
        "  'data_nasc_b',\n",
        "  'tipo_sanguineo_a',\n",
        "  'tipo_sanguineo_b',\n",
        "  'phonetic_nome_a',\n",
        "  'phonetic_nome_b',\n",
        "  'phonetic_mae_a',\n",
        "  'phonetic_mae_b',\n",
        "  'similarity'\n",
        "])\n",
        "\n",
        "M2_results_for_accuracy_calc = result_linkage_tratado_b2.select([\n",
        "  'cpf_a',\n",
        "  'cpf_b',\n",
        "  'similarity'\n",
        "]).orderBy('similarity', ascending=[0])"
      ],
      "execution_count": 182,
      "outputs": []
    },
    {
      "cell_type": "markdown",
      "metadata": {
        "id": "hFqP2wC8Ls9G"
      },
      "source": [
        "## THRID EVALUATION METHOD - FuzzyWuzz"
      ]
    },
    {
      "cell_type": "markdown",
      "metadata": {
        "id": "nQeVnqPzQc2j"
      },
      "source": [
        "### Performing CrossJoint between datasets"
      ]
    },
    {
      "cell_type": "code",
      "metadata": {
        "colab": {
          "base_uri": "https://localhost:8080/"
        },
        "id": "RaujjQ2qLq1O",
        "outputId": "0393f579-ef82-4ec7-99df-4dff54f963a0"
      },
      "source": [
        "dataset_linkage3 = df_base_a.crossJoin(df_base_b)\n",
        "dataset_linkage3.show()"
      ],
      "execution_count": 183,
      "outputs": [
        {
          "output_type": "stream",
          "name": "stdout",
          "text": [
            "+----+-----------+---------+--------+--------------+-----------+--------------------+--------------------+--------+-------+---------------+--------------------+--------+-------+----------------+------+----+---------+-----------------+--------------+-----------+--------------------+--------+--------------------+--------------------+----------------+\n",
            "|id_a|   bairro_a|    cep_a|cidade_a|         cpf_a|data_nasc_a|             email_a|          endereco_a|estado_a|idade_a|          mae_a|              nome_a|numero_a|signo_a|tipo_sanguineo_a|_c15_a|id_b|    cep_b|         cidade_b|         cpf_b|data_nasc_b|          endereco_b|estado_b|               mae_b|              nome_b|tipo_sanguineo_b|\n",
            "+----+-----------+---------+--------+--------------+-----------+--------------------+--------------------+--------+-------+---------------+--------------------+--------+-------+----------------+------+----+---------+-----------------+--------------+-----------+--------------------+--------+--------------------+--------------------+----------------+\n",
            "|   0|Vila Sarney|65090-677|Sao Luis|097.627.958-49| 10/09/1948|vicenteolivermont...|2a Travessa do Ri...|      MA|     71|Louise Beatriz |Vicente Oliver Mo...|     738| Virgem|             AB-|  null|  01|69304-350|        Boa Vista|506.865.202-46| 22/11/1965|Avenida Mario Hom...|      RR|Isabelle Marcia A...|Felipe Bruno dos ...|             AB-|\n",
            "|   0|Vila Sarney|65090-677|Sao Luis|097.627.958-49| 10/09/1948|vicenteolivermont...|2a Travessa do Ri...|      MA|     71|Louise Beatriz |Vicente Oliver Mo...|     738| Virgem|             AB-|  null|  02|78132-360|    Varzea Grande|325.828.867-42|       null|      Rua Rio Cuiaba|      MT|       Alana Isadora|Marcio Heitor Sil...|             AB-|\n",
            "|   0|Vila Sarney|65090-677|Sao Luis|097.627.958-49| 10/09/1948|vicenteolivermont...|2a Travessa do Ri...|      MA|     71|Louise Beatriz |Vicente Oliver Mo...|     738| Virgem|             AB-|  null|  03|88810-336|         Criciuma|284.536.218-88| 23/09/1961|Rua Romeu Lopes d...|      SC|  Caroline Gabriela |Theo Mario Victor...|              A-|\n",
            "|   0|Vila Sarney|65090-677|Sao Luis|097.627.958-49| 10/09/1948|vicenteolivermont...|2a Travessa do Ri...|      MA|     71|Louise Beatriz |Vicente Oliver Mo...|     738| Virgem|             AB-|  null|  04|60874-405|        Fortaleza|390.375.925-20| 11/05/1981|                null|      CE|       Tereza Bruna |Pietro Henrique d...|             AB-|\n",
            "|   0|Vila Sarney|65090-677|Sao Luis|097.627.958-49| 10/09/1948|vicenteolivermont...|2a Travessa do Ri...|      MA|     71|Louise Beatriz |Vicente Oliver Mo...|     738| Virgem|             AB-|  null|  05|79106-140|     Campo Grande|756.005.387-40| 14/12/1941|     Rua Pato Branco|      MS|      Alice Leticia |Kaique Thiago de ...|              A-|\n",
            "|   0|Vila Sarney|65090-677|Sao Luis|097.627.958-49| 10/09/1948|vicenteolivermont...|2a Travessa do Ri...|      MA|     71|Louise Beatriz |Vicente Oliver Mo...|     738| Virgem|             AB-|  null|  06|63030-450|Juazeiro do Norte|551.341.139-39| 16/02/1999| Avenida do Contorno|      CE|Elena Agatha Tere...|Gabriel Erick Oli...|              O+|\n",
            "|   0|Vila Sarney|65090-677|Sao Luis|097.627.958-49| 10/09/1948|vicenteolivermont...|2a Travessa do Ri...|      MA|     71|Louise Beatriz |Vicente Oliver Mo...|     738| Virgem|             AB-|  null|  07|84172-370|           Castro|756.048.583-90| 11/03/1982|Rua Major Candido...|    null|Vanessa Camila Ni...|Luan Caue Anthony...|            null|\n",
            "|   0|Vila Sarney|65090-677|Sao Luis|097.627.958-49| 10/09/1948|vicenteolivermont...|2a Travessa do Ri...|      MA|     71|Louise Beatriz |Vicente Oliver Mo...|     738| Virgem|             AB-|  null|  08|69070-555|           Manaus|386.351.591-95| 13/01/1978|                null|      AM|Isabelle Maite Rosa |        Enzo D Rocha|            null|\n",
            "|   0|Vila Sarney|65090-677|Sao Luis|097.627.958-49| 10/09/1948|vicenteolivermont...|2a Travessa do Ri...|      MA|     71|Louise Beatriz |Vicente Oliver Mo...|     738| Virgem|             AB-|  null|  09|20950-430|   Rio de Janeiro|885.264.747-31| 27/01/2001|         Rua do Amor|      RJ|      Sophie Bianca |Cesar Matheus Cau...|            null|\n",
            "|   0|Vila Sarney|65090-677|Sao Luis|097.627.958-49| 10/09/1948|vicenteolivermont...|2a Travessa do Ri...|      MA|     71|Louise Beatriz |Vicente Oliver Mo...|     738| Virgem|             AB-|  null|  10|36071-020|     Juiz de Fora|489.611.821-96|       null|Rua Flavia Rios M...|      MG|Giovana Antonella...|   Caua Isaac Castro|            null|\n",
            "|   0|Vila Sarney|65090-677|Sao Luis|097.627.958-49| 10/09/1948|vicenteolivermont...|2a Travessa do Ri...|      MA|     71|Louise Beatriz |Vicente Oliver Mo...|     738| Virgem|             AB-|  null|  11|75063-120|         Anapolis|281.229.310-14| 08/11/1947|Avenida dos Palmares|      GO|Mariana Mirella N...|Gabriel Caua Marc...|            null|\n",
            "|   0|Vila Sarney|65090-677|Sao Luis|097.627.958-49| 10/09/1948|vicenteolivermont...|2a Travessa do Ri...|      MA|     71|Louise Beatriz |Vicente Oliver Mo...|     738| Virgem|             AB-|  null|  12|78731-260|     Rondonopolis|492.264.809-74| 18/04/1969|      Rua Circular-2|      MT|     Rita Ayla Sara |Danilo Severino d...|              B+|\n",
            "|   0|Vila Sarney|65090-677|Sao Luis|097.627.958-49| 10/09/1948|vicenteolivermont...|2a Travessa do Ri...|      MA|     71|Louise Beatriz |Vicente Oliver Mo...|     738| Virgem|             AB-|  null|  13|77818-355|             null|816.876.443-90| 27/03/1972|       Rua Aparecida|      TO|       Louise Joana |   Samuel Noah Lopes|              O-|\n",
            "|   0|Vila Sarney|65090-677|Sao Luis|097.627.958-49| 10/09/1948|vicenteolivermont...|2a Travessa do Ri...|      MA|     71|Louise Beatriz |Vicente Oliver Mo...|     738| Virgem|             AB-|  null|  14|05403-900|             null|327.630.596-86| 10/10/1984|Avenida Doutor En...|      SP|      Heloisa Luzia |Juan Raimundo Osv...|              B+|\n",
            "|   0|Vila Sarney|65090-677|Sao Luis|097.627.958-49| 10/09/1948|vicenteolivermont...|2a Travessa do Ri...|      MA|     71|Louise Beatriz |Vicente Oliver Mo...|     738| Virgem|             AB-|  null|  15|69036-075|             null|181.410.022-95| 05/01/1973|   Beco Sao Pedro II|      AM|Jessica Jaqueline...|Leandro Cesar Jor...|              O-|\n",
            "|   0|Vila Sarney|65090-677|Sao Luis|097.627.958-49| 10/09/1948|vicenteolivermont...|2a Travessa do Ri...|      MA|     71|Louise Beatriz |Vicente Oliver Mo...|     738| Virgem|             AB-|  null|  16|40720-479|             null|843.458.724-64| 12/09/1996|3a Travessa Osval...|      BA|Lara Sabrina Giov...|Caio Julio Kaue Lima|             AB+|\n",
            "|   0|Vila Sarney|65090-677|Sao Luis|097.627.958-49| 10/09/1948|vicenteolivermont...|2a Travessa do Ri...|      MA|     71|Louise Beatriz |Vicente Oliver Mo...|     738| Virgem|             AB-|  null|  17|65075-047|             null|134.836.403-39| 21/06/1963|Rua Professora La...|      MA|Leticia Isabelly ...|Guilherme Rafael ...|              A-|\n",
            "|   0|Vila Sarney|65090-677|Sao Luis|097.627.958-49| 10/09/1948|vicenteolivermont...|2a Travessa do Ri...|      MA|     71|Louise Beatriz |Vicente Oliver Mo...|     738| Virgem|             AB-|  null|  18|79041-061|             null|557.744.519-17| 09/02/1947|     Rua Jacarepagua|      MS|     Gabriela Sueli |Nicolas Edson Araujo|              O-|\n",
            "|   0|Vila Sarney|65090-677|Sao Luis|097.627.958-49| 10/09/1948|vicenteolivermont...|2a Travessa do Ri...|      MA|     71|Louise Beatriz |Vicente Oliver Mo...|     738| Virgem|             AB-|  null|  19|72236-503|             null|254.321.926-91| 25/05/1988|Quadra EQNP 30/34...|      DF|  Rita Rafaela Lara |Cesar Nelson Dani...|             AB+|\n",
            "|   0|Vila Sarney|65090-677|Sao Luis|097.627.958-49| 10/09/1948|vicenteolivermont...|2a Travessa do Ri...|      MA|     71|Louise Beatriz |Vicente Oliver Mo...|     738| Virgem|             AB-|  null|  20|72233-008|         Brasilia|806.443.633-80| 16/02/1941|Quadra QNP 20 Con...|      DF|   Nicole Aparecida |Rodrigo Erick Rob...|              B+|\n",
            "+----+-----------+---------+--------+--------------+-----------+--------------------+--------------------+--------+-------+---------------+--------------------+--------+-------+----------------+------+----+---------+-----------------+--------------+-----------+--------------------+--------+--------------------+--------------------+----------------+\n",
            "only showing top 20 rows\n",
            "\n"
          ]
        }
      ]
    },
    {
      "cell_type": "markdown",
      "metadata": {
        "id": "WPQ35IfYpgIO"
      },
      "source": [
        "### Checking if the IDs are unique\n",
        "Names could be duplicate, but id dont."
      ]
    },
    {
      "cell_type": "code",
      "metadata": {
        "colab": {
          "base_uri": "https://localhost:8080/"
        },
        "id": "rT_KyKlznq7v",
        "outputId": "0c4d744c-7cd2-4bf8-f8b2-0ee2cdf09be9"
      },
      "source": [
        "dataset_linkage3.select('id_a').distinct().count()"
      ],
      "execution_count": 184,
      "outputs": [
        {
          "output_type": "execute_result",
          "data": {
            "text/plain": [
              "540"
            ]
          },
          "metadata": {},
          "execution_count": 184
        }
      ]
    },
    {
      "cell_type": "code",
      "metadata": {
        "colab": {
          "base_uri": "https://localhost:8080/"
        },
        "id": "lKGxT510pdqN",
        "outputId": "9a51eea2-dbe5-477e-b66e-575f549102e4"
      },
      "source": [
        "dataset_linkage3.select('id_b').distinct().count()"
      ],
      "execution_count": 185,
      "outputs": [
        {
          "output_type": "execute_result",
          "data": {
            "text/plain": [
              "143"
            ]
          },
          "metadata": {},
          "execution_count": 185
        }
      ]
    },
    {
      "cell_type": "markdown",
      "metadata": {
        "id": "n6WCLXVeScXh"
      },
      "source": [
        "### Checking null in each dataset\n",
        "Null adjustments will be done in the comparison function."
      ]
    },
    {
      "cell_type": "code",
      "metadata": {
        "colab": {
          "base_uri": "https://localhost:8080/"
        },
        "id": "5emn6B3jRIzn",
        "outputId": "fca79761-45bc-4304-9138-bb02794acdc6"
      },
      "source": [
        "dataset_linkage3.withColumn(\n",
        "  'numNulls', \n",
        "  sum(dataset_linkage3[col].isNull().cast('int') for col in dataset_linkage3.columns)\n",
        ").orderBy('numNulls', ascending=[0]).show()"
      ],
      "execution_count": 189,
      "outputs": [
        {
          "output_type": "stream",
          "name": "stdout",
          "text": [
            "+----+--------------+---------+----------+--------------+-----------+--------------------+--------------------+--------+-------+--------------------+--------------------+--------+-----------+----------------+------+----+---------+------------+--------------+-----------+--------------------+--------+--------------------+--------------------+----------------+--------+\n",
            "|id_a|      bairro_a|    cep_a|  cidade_a|         cpf_a|data_nasc_a|             email_a|          endereco_a|estado_a|idade_a|               mae_a|              nome_a|numero_a|    signo_a|tipo_sanguineo_a|_c15_a|id_b|    cep_b|    cidade_b|         cpf_b|data_nasc_b|          endereco_b|estado_b|               mae_b|              nome_b|tipo_sanguineo_b|numNulls|\n",
            "+----+--------------+---------+----------+--------------+-----------+--------------------+--------------------+--------+-------+--------------------+--------------------+--------+-----------+----------------+------+----+---------+------------+--------------+-----------+--------------------+--------+--------------------+--------------------+----------------+--------+\n",
            "|   1|Vila Sao Jorge|75044-220|  Anapolis|685.096.335-09| 24/04/1995|miguelbernardogon...|  Praca Joao Salomao|      GO|     24|     Raquel Barbara |Miguel Bernardo G...|     805|      Touro|              A-|  null|  07|84172-370|      Castro|756.048.583-90| 11/03/1982|Rua Major Candido...|    null|Vanessa Camila Ni...|Luan Caue Anthony...|            null|       3|\n",
            "|   6| Boa Esperanca|23894-586|Seropedica|148.386.650-59| 10/01/1985|brunojulioguilher...|    Rua Jose Paucino|      RJ|     34|     Lavinia Isabel |Bruno Julio Guilh...|     445|Capricornio|              B-|  null|  07|84172-370|      Castro|756.048.583-90| 11/03/1982|Rua Major Candido...|    null|Vanessa Camila Ni...|Luan Caue Anthony...|            null|       3|\n",
            "|   1|Vila Sao Jorge|75044-220|  Anapolis|685.096.335-09| 24/04/1995|miguelbernardogon...|  Praca Joao Salomao|      GO|     24|     Raquel Barbara |Miguel Bernardo G...|     805|      Touro|              A-|  null|  08|69070-555|      Manaus|386.351.591-95| 13/01/1978|                null|      AM|Isabelle Maite Rosa |        Enzo D Rocha|            null|       3|\n",
            "|   0|   Vila Sarney|65090-677|  Sao Luis|097.627.958-49| 10/09/1948|vicenteolivermont...|2a Travessa do Ri...|      MA|     71|     Louise Beatriz |Vicente Oliver Mo...|     738|     Virgem|             AB-|  null|  08|69070-555|      Manaus|386.351.591-95| 13/01/1978|                null|      AM|Isabelle Maite Rosa |        Enzo D Rocha|            null|       3|\n",
            "|   1|Vila Sao Jorge|75044-220|  Anapolis|685.096.335-09| 24/04/1995|miguelbernardogon...|  Praca Joao Salomao|      GO|     24|     Raquel Barbara |Miguel Bernardo G...|     805|      Touro|              A-|  null|  10|36071-020|Juiz de Fora|489.611.821-96|       null|Rua Flavia Rios M...|      MG|Giovana Antonella...|   Caua Isaac Castro|            null|       3|\n",
            "|   0|   Vila Sarney|65090-677|  Sao Luis|097.627.958-49| 10/09/1948|vicenteolivermont...|2a Travessa do Ri...|      MA|     71|     Louise Beatriz |Vicente Oliver Mo...|     738|     Virgem|             AB-|  null|  96|49072-130|     Aracaju|830.124.590-57|       null| Rua Comandante Poti|    null|    Adriana Kamilly |Roberto Giovanni ...|              B+|       3|\n",
            "|   1|Vila Sao Jorge|75044-220|  Anapolis|685.096.335-09| 24/04/1995|miguelbernardogon...|  Praca Joao Salomao|      GO|     24|     Raquel Barbara |Miguel Bernardo G...|     805|      Touro|              A-|  null|  96|49072-130|     Aracaju|830.124.590-57|       null| Rua Comandante Poti|    null|    Adriana Kamilly |Roberto Giovanni ...|              B+|       3|\n",
            "|   3|     Mae Luiza|59014-227|     Natal|631.875.885-22| 27/09/1965|mariorobertoisaac...|1a Rua Sao Francisco|      RN|     54|Alicia Cristiane ...|Mario Roberto Isa...|     978|      Libra|             AB+|  null|  96|49072-130|     Aracaju|830.124.590-57|       null| Rua Comandante Poti|    null|    Adriana Kamilly |Roberto Giovanni ...|              B+|       3|\n",
            "|   5|  Boca da Mata|65917-157|Imperatriz|216.419.173-00| 27/04/1997|gabrielluisjesus_...|  Rua Antenor Bastos|      MA|     22|Fernanda Sebastia...|  Gabriel Luis Jesus|     651|      Touro|              B-|  null|  96|49072-130|     Aracaju|830.124.590-57|       null| Rua Comandante Poti|    null|    Adriana Kamilly |Roberto Giovanni ...|              B+|       3|\n",
            "|   4| Jardim Monaco|86702-790| Arapongas|397.480.478-14| 24/11/1965|eeliasandersonmat...|Rua Mariquita-dos...|      PR|     54|     Tatiane Josefa |Elias Anderson Ma...|     558|  Sagitario|              A+|  null|  07|84172-370|      Castro|756.048.583-90| 11/03/1982|Rua Major Candido...|    null|Vanessa Camila Ni...|Luan Caue Anthony...|            null|       3|\n",
            "|   0|   Vila Sarney|65090-677|  Sao Luis|097.627.958-49| 10/09/1948|vicenteolivermont...|2a Travessa do Ri...|      MA|     71|     Louise Beatriz |Vicente Oliver Mo...|     738|     Virgem|             AB-|  null|  10|36071-020|Juiz de Fora|489.611.821-96|       null|Rua Flavia Rios M...|      MG|Giovana Antonella...|   Caua Isaac Castro|            null|       3|\n",
            "|   4| Jardim Monaco|86702-790| Arapongas|397.480.478-14| 24/11/1965|eeliasandersonmat...|Rua Mariquita-dos...|      PR|     54|     Tatiane Josefa |Elias Anderson Ma...|     558|  Sagitario|              A+|  null|  08|69070-555|      Manaus|386.351.591-95| 13/01/1978|                null|      AM|Isabelle Maite Rosa |        Enzo D Rocha|            null|       3|\n",
            "|   2|   Cabralzinho|68906-846|    Macapa|956.997.968-27| 13/03/1984|ericktheomarcosvi...|    Alameda Calcoene|      AP|     35|Maite Valentina R...|Erick Theo Marcos...|     669|     Peixes|              B+|  null|  08|69070-555|      Manaus|386.351.591-95| 13/01/1978|                null|      AM|Isabelle Maite Rosa |        Enzo D Rocha|            null|       3|\n",
            "|   4| Jardim Monaco|86702-790| Arapongas|397.480.478-14| 24/11/1965|eeliasandersonmat...|Rua Mariquita-dos...|      PR|     54|     Tatiane Josefa |Elias Anderson Ma...|     558|  Sagitario|              A+|  null|  10|36071-020|Juiz de Fora|489.611.821-96|       null|Rua Flavia Rios M...|      MG|Giovana Antonella...|   Caua Isaac Castro|            null|       3|\n",
            "|   2|   Cabralzinho|68906-846|    Macapa|956.997.968-27| 13/03/1984|ericktheomarcosvi...|    Alameda Calcoene|      AP|     35|Maite Valentina R...|Erick Theo Marcos...|     669|     Peixes|              B+|  null|  96|49072-130|     Aracaju|830.124.590-57|       null| Rua Comandante Poti|    null|    Adriana Kamilly |Roberto Giovanni ...|              B+|       3|\n",
            "|   4| Jardim Monaco|86702-790| Arapongas|397.480.478-14| 24/11/1965|eeliasandersonmat...|Rua Mariquita-dos...|      PR|     54|     Tatiane Josefa |Elias Anderson Ma...|     558|  Sagitario|              A+|  null|  96|49072-130|     Aracaju|830.124.590-57|       null| Rua Comandante Poti|    null|    Adriana Kamilly |Roberto Giovanni ...|              B+|       3|\n",
            "|   3|     Mae Luiza|59014-227|     Natal|631.875.885-22| 27/09/1965|mariorobertoisaac...|1a Rua Sao Francisco|      RN|     54|Alicia Cristiane ...|Mario Roberto Isa...|     978|      Libra|             AB+|  null|  08|69070-555|      Manaus|386.351.591-95| 13/01/1978|                null|      AM|Isabelle Maite Rosa |        Enzo D Rocha|            null|       3|\n",
            "|   5|  Boca da Mata|65917-157|Imperatriz|216.419.173-00| 27/04/1997|gabrielluisjesus_...|  Rua Antenor Bastos|      MA|     22|Fernanda Sebastia...|  Gabriel Luis Jesus|     651|      Touro|              B-|  null|  07|84172-370|      Castro|756.048.583-90| 11/03/1982|Rua Major Candido...|    null|Vanessa Camila Ni...|Luan Caue Anthony...|            null|       3|\n",
            "|   0|   Vila Sarney|65090-677|  Sao Luis|097.627.958-49| 10/09/1948|vicenteolivermont...|2a Travessa do Ri...|      MA|     71|     Louise Beatriz |Vicente Oliver Mo...|     738|     Virgem|             AB-|  null|  07|84172-370|      Castro|756.048.583-90| 11/03/1982|Rua Major Candido...|    null|Vanessa Camila Ni...|Luan Caue Anthony...|            null|       3|\n",
            "|   5|  Boca da Mata|65917-157|Imperatriz|216.419.173-00| 27/04/1997|gabrielluisjesus_...|  Rua Antenor Bastos|      MA|     22|Fernanda Sebastia...|  Gabriel Luis Jesus|     651|      Touro|              B-|  null|  08|69070-555|      Manaus|386.351.591-95| 13/01/1978|                null|      AM|Isabelle Maite Rosa |        Enzo D Rocha|            null|       3|\n",
            "+----+--------------+---------+----------+--------------+-----------+--------------------+--------------------+--------+-------+--------------------+--------------------+--------+-----------+----------------+------+----+---------+------------+--------------+-----------+--------------------+--------+--------------------+--------------------+----------------+--------+\n",
            "only showing top 20 rows\n",
            "\n"
          ]
        }
      ]
    },
    {
      "cell_type": "markdown",
      "metadata": {
        "id": "2YCu2IM6VAZh"
      },
      "source": [
        "### Selecting data and re-evaluating the nulls\n"
      ]
    },
    {
      "cell_type": "code",
      "metadata": {
        "colab": {
          "base_uri": "https://localhost:8080/"
        },
        "id": "PikXog5IRI5r",
        "outputId": "c89e41c3-fa46-4b0d-a130-7aabcfa9f1f6"
      },
      "source": [
        "dataset_linkage3_analise = dataset_linkage3.select([\n",
        "  'id_a',\n",
        "  'cpf_a',\n",
        "  'cep_a',\n",
        "  'cidade_a',\n",
        "  'data_nasc_a',\n",
        "  'endereco_a',\n",
        "  'estado_a',\n",
        "  'nome_a',\n",
        "  'mae_a',\n",
        "  'tipo_sanguineo_a',\n",
        "  'id_b',\n",
        "  'cpf_b',\n",
        "  'cep_b',\n",
        "  'cidade_b',\n",
        "  'data_nasc_b',\n",
        "  'endereco_b',\n",
        "  'estado_b',\n",
        "  'nome_b',\n",
        "  'mae_b',\n",
        "  'tipo_sanguineo_b'\n",
        "])\n",
        "\n",
        "dataset_linkage3_analise.withColumn(\n",
        "  'numNulls', \n",
        "  sum(dataset_linkage3_analise[col].isNull().cast('int') for col in dataset_linkage3_analise.columns)\n",
        ").orderBy('numNulls', ascending=[0]).show()"
      ],
      "execution_count": 190,
      "outputs": [
        {
          "output_type": "stream",
          "name": "stdout",
          "text": [
            "+----+--------------+---------+----------+-----------+--------------------+--------+--------------------+--------------------+----------------+----+--------------+---------+------------+-----------+--------------------+--------+--------------------+--------------------+----------------+--------+\n",
            "|id_a|         cpf_a|    cep_a|  cidade_a|data_nasc_a|          endereco_a|estado_a|              nome_a|               mae_a|tipo_sanguineo_a|id_b|         cpf_b|    cep_b|    cidade_b|data_nasc_b|          endereco_b|estado_b|              nome_b|               mae_b|tipo_sanguineo_b|numNulls|\n",
            "+----+--------------+---------+----------+-----------+--------------------+--------+--------------------+--------------------+----------------+----+--------------+---------+------------+-----------+--------------------+--------+--------------------+--------------------+----------------+--------+\n",
            "|   1|685.096.335-09|75044-220|  Anapolis| 24/04/1995|  Praca Joao Salomao|      GO|Miguel Bernardo G...|     Raquel Barbara |              A-|  07|756.048.583-90|84172-370|      Castro| 11/03/1982|Rua Major Candido...|    null|Luan Caue Anthony...|Vanessa Camila Ni...|            null|       2|\n",
            "|   6|148.386.650-59|23894-586|Seropedica| 10/01/1985|    Rua Jose Paucino|      RJ|Bruno Julio Guilh...|     Lavinia Isabel |              B-|  07|756.048.583-90|84172-370|      Castro| 11/03/1982|Rua Major Candido...|    null|Luan Caue Anthony...|Vanessa Camila Ni...|            null|       2|\n",
            "|   1|685.096.335-09|75044-220|  Anapolis| 24/04/1995|  Praca Joao Salomao|      GO|Miguel Bernardo G...|     Raquel Barbara |              A-|  08|386.351.591-95|69070-555|      Manaus| 13/01/1978|                null|      AM|        Enzo D Rocha|Isabelle Maite Rosa |            null|       2|\n",
            "|   0|097.627.958-49|65090-677|  Sao Luis| 10/09/1948|2a Travessa do Ri...|      MA|Vicente Oliver Mo...|     Louise Beatriz |             AB-|  08|386.351.591-95|69070-555|      Manaus| 13/01/1978|                null|      AM|        Enzo D Rocha|Isabelle Maite Rosa |            null|       2|\n",
            "|   1|685.096.335-09|75044-220|  Anapolis| 24/04/1995|  Praca Joao Salomao|      GO|Miguel Bernardo G...|     Raquel Barbara |              A-|  10|489.611.821-96|36071-020|Juiz de Fora|       null|Rua Flavia Rios M...|      MG|   Caua Isaac Castro|Giovana Antonella...|            null|       2|\n",
            "|   0|097.627.958-49|65090-677|  Sao Luis| 10/09/1948|2a Travessa do Ri...|      MA|Vicente Oliver Mo...|     Louise Beatriz |             AB-|  96|830.124.590-57|49072-130|     Aracaju|       null| Rua Comandante Poti|    null|Roberto Giovanni ...|    Adriana Kamilly |              B+|       2|\n",
            "|   1|685.096.335-09|75044-220|  Anapolis| 24/04/1995|  Praca Joao Salomao|      GO|Miguel Bernardo G...|     Raquel Barbara |              A-|  96|830.124.590-57|49072-130|     Aracaju|       null| Rua Comandante Poti|    null|Roberto Giovanni ...|    Adriana Kamilly |              B+|       2|\n",
            "|   3|631.875.885-22|59014-227|     Natal| 27/09/1965|1a Rua Sao Francisco|      RN|Mario Roberto Isa...|Alicia Cristiane ...|             AB+|  96|830.124.590-57|49072-130|     Aracaju|       null| Rua Comandante Poti|    null|Roberto Giovanni ...|    Adriana Kamilly |              B+|       2|\n",
            "|   5|216.419.173-00|65917-157|Imperatriz| 27/04/1997|  Rua Antenor Bastos|      MA|  Gabriel Luis Jesus|Fernanda Sebastia...|              B-|  96|830.124.590-57|49072-130|     Aracaju|       null| Rua Comandante Poti|    null|Roberto Giovanni ...|    Adriana Kamilly |              B+|       2|\n",
            "|   4|397.480.478-14|86702-790| Arapongas| 24/11/1965|Rua Mariquita-dos...|      PR|Elias Anderson Ma...|     Tatiane Josefa |              A+|  07|756.048.583-90|84172-370|      Castro| 11/03/1982|Rua Major Candido...|    null|Luan Caue Anthony...|Vanessa Camila Ni...|            null|       2|\n",
            "|   0|097.627.958-49|65090-677|  Sao Luis| 10/09/1948|2a Travessa do Ri...|      MA|Vicente Oliver Mo...|     Louise Beatriz |             AB-|  10|489.611.821-96|36071-020|Juiz de Fora|       null|Rua Flavia Rios M...|      MG|   Caua Isaac Castro|Giovana Antonella...|            null|       2|\n",
            "|   4|397.480.478-14|86702-790| Arapongas| 24/11/1965|Rua Mariquita-dos...|      PR|Elias Anderson Ma...|     Tatiane Josefa |              A+|  08|386.351.591-95|69070-555|      Manaus| 13/01/1978|                null|      AM|        Enzo D Rocha|Isabelle Maite Rosa |            null|       2|\n",
            "|   2|956.997.968-27|68906-846|    Macapa| 13/03/1984|    Alameda Calcoene|      AP|Erick Theo Marcos...|Maite Valentina R...|              B+|  08|386.351.591-95|69070-555|      Manaus| 13/01/1978|                null|      AM|        Enzo D Rocha|Isabelle Maite Rosa |            null|       2|\n",
            "|   4|397.480.478-14|86702-790| Arapongas| 24/11/1965|Rua Mariquita-dos...|      PR|Elias Anderson Ma...|     Tatiane Josefa |              A+|  10|489.611.821-96|36071-020|Juiz de Fora|       null|Rua Flavia Rios M...|      MG|   Caua Isaac Castro|Giovana Antonella...|            null|       2|\n",
            "|   2|956.997.968-27|68906-846|    Macapa| 13/03/1984|    Alameda Calcoene|      AP|Erick Theo Marcos...|Maite Valentina R...|              B+|  96|830.124.590-57|49072-130|     Aracaju|       null| Rua Comandante Poti|    null|Roberto Giovanni ...|    Adriana Kamilly |              B+|       2|\n",
            "|   4|397.480.478-14|86702-790| Arapongas| 24/11/1965|Rua Mariquita-dos...|      PR|Elias Anderson Ma...|     Tatiane Josefa |              A+|  96|830.124.590-57|49072-130|     Aracaju|       null| Rua Comandante Poti|    null|Roberto Giovanni ...|    Adriana Kamilly |              B+|       2|\n",
            "|   3|631.875.885-22|59014-227|     Natal| 27/09/1965|1a Rua Sao Francisco|      RN|Mario Roberto Isa...|Alicia Cristiane ...|             AB+|  08|386.351.591-95|69070-555|      Manaus| 13/01/1978|                null|      AM|        Enzo D Rocha|Isabelle Maite Rosa |            null|       2|\n",
            "|   5|216.419.173-00|65917-157|Imperatriz| 27/04/1997|  Rua Antenor Bastos|      MA|  Gabriel Luis Jesus|Fernanda Sebastia...|              B-|  07|756.048.583-90|84172-370|      Castro| 11/03/1982|Rua Major Candido...|    null|Luan Caue Anthony...|Vanessa Camila Ni...|            null|       2|\n",
            "|   0|097.627.958-49|65090-677|  Sao Luis| 10/09/1948|2a Travessa do Ri...|      MA|Vicente Oliver Mo...|     Louise Beatriz |             AB-|  07|756.048.583-90|84172-370|      Castro| 11/03/1982|Rua Major Candido...|    null|Luan Caue Anthony...|Vanessa Camila Ni...|            null|       2|\n",
            "|   5|216.419.173-00|65917-157|Imperatriz| 27/04/1997|  Rua Antenor Bastos|      MA|  Gabriel Luis Jesus|Fernanda Sebastia...|              B-|  08|386.351.591-95|69070-555|      Manaus| 13/01/1978|                null|      AM|        Enzo D Rocha|Isabelle Maite Rosa |            null|       2|\n",
            "+----+--------------+---------+----------+-----------+--------------------+--------+--------------------+--------------------+----------------+----+--------------+---------+------------+-----------+--------------------+--------+--------------------+--------------------+----------------+--------+\n",
            "only showing top 20 rows\n",
            "\n"
          ]
        }
      ]
    },
    {
      "cell_type": "markdown",
      "metadata": {
        "id": "SdOZZPT-VmFN"
      },
      "source": [
        "### Installing Fuzzywuzzy e Levenshtein"
      ]
    },
    {
      "cell_type": "code",
      "metadata": {
        "id": "Q5xq9qx3RI8l",
        "colab": {
          "base_uri": "https://localhost:8080/"
        },
        "outputId": "b499e3b5-7640-475e-df6f-3493d6e8d0cb"
      },
      "source": [
        "!pip install fuzzywuzzy  \n",
        "!pip install python-Levenshtein  "
      ],
      "execution_count": 191,
      "outputs": [
        {
          "output_type": "stream",
          "name": "stdout",
          "text": [
            "Collecting fuzzywuzzy\n",
            "  Downloading fuzzywuzzy-0.18.0-py2.py3-none-any.whl (18 kB)\n",
            "Installing collected packages: fuzzywuzzy\n",
            "Successfully installed fuzzywuzzy-0.18.0\n",
            "Collecting python-Levenshtein\n",
            "  Downloading python-Levenshtein-0.12.2.tar.gz (50 kB)\n",
            "\u001b[K     |████████████████████████████████| 50 kB 3.0 MB/s \n",
            "\u001b[?25hRequirement already satisfied: setuptools in /usr/local/lib/python3.7/dist-packages (from python-Levenshtein) (57.4.0)\n",
            "Building wheels for collected packages: python-Levenshtein\n",
            "  Building wheel for python-Levenshtein (setup.py) ... \u001b[?25l\u001b[?25hdone\n",
            "  Created wheel for python-Levenshtein: filename=python_Levenshtein-0.12.2-cp37-cp37m-linux_x86_64.whl size=149863 sha256=df552f94b37101c8e3ac2a2bfe0cdf4bf97bf75b300b8949ab98afa08f686a07\n",
            "  Stored in directory: /root/.cache/pip/wheels/05/5f/ca/7c4367734892581bb5ff896f15027a932c551080b2abd3e00d\n",
            "Successfully built python-Levenshtein\n",
            "Installing collected packages: python-Levenshtein\n",
            "Successfully installed python-Levenshtein-0.12.2\n"
          ]
        }
      ]
    },
    {
      "cell_type": "code",
      "metadata": {
        "id": "vLQvRBF5RI-v"
      },
      "source": [
        "from fuzzywuzzy import fuzz\n",
        "from fuzzywuzzy import process"
      ],
      "execution_count": 192,
      "outputs": []
    },
    {
      "cell_type": "markdown",
      "metadata": {
        "id": "_h6PkJfmQYpe"
      },
      "source": [
        "### Similarity Calculation Function"
      ]
    },
    {
      "cell_type": "code",
      "metadata": {
        "id": "ZQbt419nLrBE"
      },
      "source": [
        "def compare3(cep_a,cidade_a,data_nasc_a,endereco_a,estado_a,nome_a,mae_a,tipo_sanguineo_a,\n",
        "  cep_b,cidade_b,data_nasc_b,endereco_b,estado_b,nome_b,mae_b,tipo_sanguineo_b\n",
        "):\n",
        "  \n",
        "  total=0\n",
        "  sim = 0\n",
        "  sim_cep = 0\n",
        "  sim_cidade = 0\n",
        "  sim_data_nasc = 0    \n",
        "  sim_endereco = 0\n",
        "  sim_estado = 0\n",
        "  sim_nome = 0\n",
        "  sim_mae = 0\n",
        "  sim_tipo_sanguineo = 0\n",
        "    \n",
        "  #Calcula similaridade somente para os campos existentes\n",
        "  if not((cep_a) is None) and not((cep_b) is None):\n",
        "    sim_cep = fuzz.ratio(cep_a, cep_b)\n",
        "    total = total + 1\n",
        "  if not((cidade_a) is None) and not((cidade_b) is None):\n",
        "    sim_cidade = fuzz.ratio(cidade_a, cidade_b)\n",
        "    total = total + 1\n",
        "  if not((data_nasc_a) is None) and not((data_nasc_b) is None):\n",
        "    sim_data_nasc = fuzz.ratio(data_nasc_a, data_nasc_b)\n",
        "    total = total + 1\n",
        "  if not((endereco_a) is None) and not((endereco_b) is None):\n",
        "    sim_endereco = fuzz.ratio(endereco_a, endereco_b)\n",
        "    total = total + 1\n",
        "  if not((estado_a) is None) and not((estado_b) is None):\n",
        "    sim_estado = fuzz.ratio(estado_a, estado_b)\n",
        "    total = total + 1\n",
        "  if not((nome_a) is None) and not((nome_b) is None):\n",
        "    sim_nome = fuzz.ratio(nome_a, nome_b)\n",
        "    total = total + 1\n",
        "  if not((mae_a) is None) and not((mae_b) is None):\n",
        "    sim_mae = fuzz.ratio(mae_a, mae_b)\n",
        "    total = total + 1\n",
        "  if not((tipo_sanguineo_a) is None) and not((tipo_sanguineo_b) is None):\n",
        "    sim_tipo_sanguineo = fuzz.ratio(tipo_sanguineo_a, tipo_sanguineo_b)\n",
        "    total = total + 1\n",
        "      \n",
        "  #Pesos:\n",
        "  #P_mae = 4\n",
        "  #P_nome = 5\n",
        "  #P_ph_mae = 4\n",
        "  #P_ph_nome = 5\n",
        "  #P_data_nasc = 4\n",
        "  #P_tipo_sang = 3\n",
        "  #P_total = P_mae + P_nome + P_ph_mae + P_ph_nome + P_data_nasc + P_tipo_sang\n",
        "  \n",
        "  # Media simples\n",
        "  sim = float(\n",
        "    sim_cep + \\\n",
        "    sim_cidade + \\\n",
        "    sim_data_nasc + \\\n",
        "    sim_endereco + \\\n",
        "    sim_estado + \\\n",
        "    sim_nome + \\\n",
        "    sim_mae + \\\n",
        "    sim_tipo_sanguineo \\\n",
        "  )/total\n",
        "  \n",
        "  return sim/100\n",
        "udf_compare3 = F.udf(compare3, FloatType())"
      ],
      "execution_count": 210,
      "outputs": []
    },
    {
      "cell_type": "code",
      "metadata": {
        "id": "1QJ2G5R4LrEM"
      },
      "source": [
        "result_linkage3 = dataset_linkage3_analise.withColumn('similarity', udf_compare3(\n",
        "  F.col('cep_a'), \n",
        "  F.col('cidade_a'), \n",
        "  F.col('data_nasc_a'), \n",
        "  F.col('endereco_a'), \n",
        "  F.col('estado_a'), \n",
        "  F.col('nome_a'), \n",
        "  F.col('mae_a'), \n",
        "  F.col('tipo_sanguineo_a'),\n",
        "  F.col('cep_b'), \n",
        "  F.col('cidade_b'), \n",
        "  F.col('data_nasc_b'), \n",
        "  F.col('endereco_b'), \n",
        "  F.col('estado_b'), \n",
        "  F.col('nome_b'), \n",
        "  F.col('mae_b'), \n",
        "  F.col('tipo_sanguineo_b') \n",
        "))"
      ],
      "execution_count": 211,
      "outputs": []
    },
    {
      "cell_type": "code",
      "metadata": {
        "id": "K5xujjGJgUq9",
        "colab": {
          "base_uri": "https://localhost:8080/"
        },
        "outputId": "d3f8a545-ae1d-4d32-d6c1-9a5dae63fb5a"
      },
      "source": [
        "result_linkage3_result = result_linkage3.orderBy(['id_b','similarity'], ascending=[0,0])\n",
        "result_linkage3_result = result_linkage3_result.drop_duplicates(['id_b'])\n",
        "result_linkage3_result.show()"
      ],
      "execution_count": 212,
      "outputs": [
        {
          "output_type": "stream",
          "name": "stdout",
          "text": [
            "+----+--------------+---------+--------------------+-----------+--------------------+--------+--------------------+--------------------+----------------+----+--------------+---------+--------------------+-----------+--------------------+--------+--------------------+--------------------+----------------+----------+\n",
            "|id_a|         cpf_a|    cep_a|            cidade_a|data_nasc_a|          endereco_a|estado_a|              nome_a|               mae_a|tipo_sanguineo_a|id_b|         cpf_b|    cep_b|            cidade_b|data_nasc_b|          endereco_b|estado_b|              nome_b|               mae_b|tipo_sanguineo_b|similarity|\n",
            "+----+--------------+---------+--------------------+-----------+--------------------+--------+--------------------+--------------------+----------------+----+--------------+---------+--------------------+-----------+--------------------+--------+--------------------+--------------------+----------------+----------+\n",
            "|  20|756.048.583-90|84172-370|              Castro| 11/03/1982|Rua Major Candido...|      PR|Luan Caue Anthony...|Vanessa Camila Ni...|             AB+|  07|756.048.583-90|84172-370|              Castro| 11/03/1982|Rua Major Candido...|    null|Luan Caue Anthony...|Vanessa Camila Ni...|            null|       1.0|\n",
            "| 520|473.096.540-05|59616-380|             Mossoro| 26/03/1985|Rua Luiz Fausto d...|      RN|Theo Mario Raul S...|    Luzia Ana Maite |              B-| 125|473.096.540-05|59616-380|             Mossoro| 09/07/1980|Rua Argeo de Carv...|      SE|   Samuel Noah Lopes|       Luana Louise |              O-|    0.5625|\n",
            "| 358|856.757.448-00|57086-134|              Maceio| 26/10/1967|          Quadra D-G|      AL| Geraldo Yago Duarte|Sophia Marlene Ga...|             AB+| 124|180.830.510-80|60767-645|           Fortaleza| 16/02/1941|Quadra QNP 20 Con...|      AL|Danilo Severino d...|Sabrina Tania Adr...|             AB+|    0.5725|\n",
            "|  63|869.696.945-69|45002-048|Vitoria da Conquista| 07/11/1945|1a Travessa da Ba...|      BA|Alexandre Bruno M...|   Isabelly Kamilly |              B-|  51|869.696.945-69|45002-048|Vitoria da Conquista| 07/11/1945|1a Travessa da Ba...|      BA|Alexandre Bruno M...|   Isabelly Kamilly |              B-|       1.0|\n",
            "|  28|181.410.022-95|69036-075|              Manaus| 05/01/1973|   Beco Sao Pedro II|      AM|Leandro Cesar Jor...|Jessica Jaqueline...|              O-|  15|181.410.022-95|69036-075|                null| 05/01/1973|   Beco Sao Pedro II|      AM|Leandro Cesar Jor...|Jessica Jaqueline...|              O-|       1.0|\n",
            "|  66|631.466.800-09|59600-200|             Mossoro| 17/10/1969|  Rua Coronel Gurgel|      RN| Ricardo Igor Barros|Gabrielly Melissa...|              A-|  54|631.466.800-09|59600-200|             Mossoro| 17/10/1969|  Rua Coronel Gurgel|      RN| Ricardo Igor Barros|Gabrielly Melissa...|            null|       1.0|\n",
            "| 120|532.555.622-36|70305-910|            Brasilia| 13/02/1949|SCS Quadra 5 Bloc...|      DF|Marcos Vinicius Y...|Fatima Isabela Re...|              A-| 132|998.958.182-70|83402-215|             Colombo| 17/07/1955|           Rua Belem|      DF|Rodrigo Erick Rob...|Fatima Isabela Re...|              O-|    0.5475|\n",
            "|  89|919.624.227-20|78070-180|              Cuiaba| 16/02/2001|          Rua Quioto|      MT| Isaac Luiz Aparicio|     Stefany Eliane |              A-| 101|823.068.573-85|75044-220|            Anapolis| 16/07/1977|Rua Major Ulisses...|      MT| Isaac Luiz Aparicio|     Stefany Eliane |             AB-|   0.65125|\n",
            "|  24|281.229.310-14|75063-120|            Anapolis| 08/11/1947|Avenida dos Palmares|      GO|Gabriel Caua Marc...|Mariana Mirella N...|             AB-|  11|281.229.310-14|75063-120|            Anapolis| 08/11/1947|Avenida dos Palmares|      GO|Gabriel Caua Marc...|Mariana Mirella N...|            null|       1.0|\n",
            "| 168|239.059.157-40|49025-650|             Aracaju| 07/02/1951|Rua Professor Rob...|      SE|Breno Murilo Toma...|    Beatriz Andreia |              O-| 138|046.391.337-07|49055-610|             Aracaju| 03/05/1954|Rua Jose Alves Po...|      AP|Heitor Leonardo C...|Regina Gabriela A...|              O-|   0.59625|\n",
            "| 512|797.175.014-59|92035-535|              Canoas| 11/09/1954|         Rua Dezoito|      RS|Calebe Osvaldo Ba...|Stella Raimunda S...|             AB+|  29|797.175.014-59|     null|              Canoas| 11/09/1954|         Rua Dezoito|      RS|Calebe Osvaldo Ba...|Stella Raimunda S...|             AB+|       1.0|\n",
            "| 458|081.783.955-09|63100-030|               Crato| 10/11/1943| Rua Monsenhor Soter|      CE|Anderson Gustavo ...|Vitoria Catarina ...|             AB+|  69|081.783.955-09|63100-030|               Crato| 10/11/1943| Rua Monsenhor Soter|      CE|Anderson Gustavo ...|Vitoria Catarina ...|             AB+|       1.0|\n",
            "| 100|055.033.142-55|76879-970|          Bom Futuro| 25/07/1998|           Ramal 421|      RO|Marcos Yago Lucca...|      Clarice Bruna |             AB-| 112|233.893.997-20|88135-079|             Palhoca| 26/10/1959|     Rua Castanheira|      RO|Marcos Yago Lucca...|      Clarice Bruna |              O-|       0.6|\n",
            "| 525|318.470.004-60|24802-120|            Itaborai| 24/11/1949|               Rua L|      RJ|   Kaue Cesar Moraes|Tatiane Daiane Sara |              O-|  42|318.470.004-60|24802-120|            Itaborai| 24/11/1949|               Rua L|      RJ|   Kaue Cesar Moraes|Tatiane Daiane Sara |              O-|       1.0|\n",
            "| 462|095.450.063-66|36032-006|        Juiz de Fora| 15/12/1965|         Rua do Vale|      MG|Elias Pedro Geral...| Isis Isabel Elaine |             AB+|  73|095.450.063-66|36032-006|        Juiz de Fora| 15/12/1965|         Rua do Vale|      MG|Elias Pedro Geral...| Isis Isabel Elaine |             AB+|       1.0|\n",
            "| 476|625.938.432-76|74593-500|             Goiania| 17/02/2000| Avenida dos Tapuias|      GO|Benedito Kaique S...|Nicole Marcia Cla...|              O-|  87|625.938.432-76|74593-500|             Goiania| 17/02/2000| Avenida dos Tapuias|      GO|Benedito Kaique S...|Nicoli Marcia Cla...|              O-|   0.99375|\n",
            "|  76|571.307.021-25|29164-869|               Serra| 05/01/1984|     Rua da Macieira|      ES|Marcelo Benedito ...|Pietra Sebastiana...|             AB-|  64|571.307.021-25|29164-869|               Serra| 05/01/1984|     Rua da Macieira|      ES|Marcelo Benedito ...|Pietra Sebastiana...|             AB-|       1.0|\n",
            "| 101|311.265.388-25|69058-796|              Manaus| 20/05/1952|Rua Professora Ri...|      AM|Claudio Murilo Au...|  Patricia Jennifer |             AB+| 113|748.193.267-08|70686-455|            Brasilia| 15/03/1977|Quadra EQNN 18/20...|      AM|        Claudio Rosa|  Patricia Jennifer |              B+|    0.5975|\n",
            "| 513|618.880.659-31|68908-076|              Macapa| 20/03/1961|Avenida Maria Cav...|      AP|Miguel Francisco ...|    Fernanda Mariah |             AB+|  30|618.880.659-31|     null|              Macapa| 20/03/1961|Avenida Maria Cav...|      AP|Miguel Francisco ...|    Fernanda Mariah |             AB+|       1.0|\n",
            "| 517|735.339.007-70|37902-013|              Passos| 17/04/1960|Rua Onze de Dezembro|      MG|    Enzo Diogo Pinto|  Malu Sophia Marli |             AB-|  34|735.339.007-70|37902-013|              Passos| 17/04/1960|Rua Onze de Dezembro|      MG|    Enzo Diogo Pinto|  Malu Sophia Marli |              A-|     0.975|\n",
            "+----+--------------+---------+--------------------+-----------+--------------------+--------+--------------------+--------------------+----------------+----+--------------+---------+--------------------+-----------+--------------------+--------+--------------------+--------------------+----------------+----------+\n",
            "only showing top 20 rows\n",
            "\n"
          ]
        }
      ]
    },
    {
      "cell_type": "code",
      "metadata": {
        "id": "e4qnKzX_gUuy"
      },
      "source": [
        "M3_results_for_accuracy_calc = result_linkage3_result.select(['cpf_a', 'cpf_b','similarity']).orderBy('similarity', ascending=[0])"
      ],
      "execution_count": 213,
      "outputs": []
    },
    {
      "cell_type": "markdown",
      "metadata": {
        "id": "SsQj2nC5IYe9"
      },
      "source": [
        "\n",
        "\n",
        "---\n",
        "\n",
        "\n",
        "\n",
        "---\n",
        "\n",
        "\n",
        "\n",
        "---\n",
        "\n",
        "\n",
        "\n",
        "---\n",
        "\n"
      ]
    },
    {
      "cell_type": "markdown",
      "metadata": {
        "id": "WFrwYv3L9HAQ"
      },
      "source": [
        "# FINAL RESULTS EVALUATION"
      ]
    },
    {
      "cell_type": "code",
      "metadata": {
        "id": "NKk5JqHDlyBP"
      },
      "source": [
        "# Let us consider a cuttoff point set as 0.85\n",
        "cutoff = 0.85\n",
        "\n",
        "# sorting and deduplicating the resulting dataset\n",
        "#data = data.withColumn('similairty', F.col('similarity').cast(DoubleType()))\n",
        "M1_accuracy_calc = M1_results_for_accuracy_calc.orderBy('similarity').dropDuplicates(['cpf_b'])\n",
        "M1_accuracy_calc = M1_results_for_accuracy_calc.withColumn('match', F.when(F.col('similarity') >= cutoff, '1').otherwise('0'))\n",
        "M2_accuracy_calc = M2_results_for_accuracy_calc.orderBy('similarity').dropDuplicates(['cpf_b'])\n",
        "M2_accuracy_calc = M2_results_for_accuracy_calc.withColumn('match', F.when(F.col('similarity') >= cutoff, '1').otherwise('0'))\n",
        "M3_accuracy_calc = M3_results_for_accuracy_calc.orderBy('similarity').dropDuplicates(['cpf_b'])\n",
        "M3_accuracy_calc = M3_results_for_accuracy_calc.withColumn('match', F.when(F.col('similarity') >= cutoff, '1').otherwise('0'))"
      ],
      "execution_count": 214,
      "outputs": []
    },
    {
      "cell_type": "code",
      "metadata": {
        "id": "o-0f9VS0mHf4"
      },
      "source": [
        "def inspect_pairs(cpf_a, cpf_b, match):\n",
        "  if match == '1':\n",
        "    if cpf_a == cpf_b:\n",
        "      return \"TP\"\n",
        "    else:\n",
        "      return \"FP\"\n",
        "  else:\n",
        "    if cpf_a != cpf_b:\n",
        "      return \"TN\"\n",
        "    else: \n",
        "      return \"FN\"\n",
        "udf_inspect_pairs = F.udf(inspect_pairs, StringType())"
      ],
      "execution_count": 215,
      "outputs": []
    },
    {
      "cell_type": "code",
      "metadata": {
        "colab": {
          "base_uri": "https://localhost:8080/"
        },
        "id": "jfO1F_PZmbbK",
        "outputId": "d5841d0a-5323-4159-d08a-274ff1c4e082"
      },
      "source": [
        "M1_accuracy_calc = M1_accuracy_calc.withColumn('perf', udf_inspect_pairs(\n",
        "  F.col('cpf_a'), \n",
        "  F.col('cpf_b'), \n",
        "  F.col('match')\n",
        "))\n",
        "M2_accuracy_calc = M2_accuracy_calc.withColumn('perf', udf_inspect_pairs(\n",
        "  F.col('cpf_a'), \n",
        "  F.col('cpf_b'), \n",
        "  F.col('match')\n",
        "))\n",
        "M3_accuracy_calc = M3_accuracy_calc.withColumn('perf', udf_inspect_pairs(\n",
        "  F.col('cpf_a'), \n",
        "  F.col('cpf_b'), \n",
        "  F.col('match')\n",
        "))\n",
        "print(M1_accuracy_calc.show())\n",
        "print(M2_accuracy_calc.show())\n",
        "print(M3_accuracy_calc.show())"
      ],
      "execution_count": 216,
      "outputs": [
        {
          "output_type": "stream",
          "name": "stdout",
          "text": [
            "+--------------+--------------+------------------+-----+----+\n",
            "|         cpf_a|         cpf_b|        similarity|match|perf|\n",
            "+--------------+--------------+------------------+-----+----+\n",
            "|081.783.955-09|081.783.955-09|               1.0|    1|  TP|\n",
            "|488.380.897-10|488.380.897-10|               1.0|    1|  TP|\n",
            "|475.612.908-02|475.612.908-02|0.9974358974358974|    1|  TP|\n",
            "|625.938.432-76|625.938.432-76|0.9874458874458875|    1|  TP|\n",
            "|420.868.827-00|420.868.827-00|               1.0|    1|  TP|\n",
            "|390.371.546-89|390.371.546-89|               1.0|    1|  TP|\n",
            "|249.678.124-57|249.678.124-57|               1.0|    1|  TP|\n",
            "|055.302.287-39|055.302.287-39|0.9947738252086079|    1|  TP|\n",
            "|506.865.202-46|506.865.202-46|               1.0|    1|  TP|\n",
            "|327.630.596-86|327.630.596-86|               1.0|    1|  TP|\n",
            "|658.224.088-93|535.871.894-04|0.7666666666666666|    0|  TN|\n",
            "|248.115.138-00|248.115.138-00|               1.0|    1|  TP|\n",
            "|617.496.046-39|442.694.244-60|0.7833333333333333|    0|  TN|\n",
            "|455.643.269-38|455.643.269-38|0.8333333333333334|    0|  FN|\n",
            "|295.718.231-98|295.718.231-98|               1.0|    1|  TP|\n",
            "|134.836.403-39|134.836.403-39|               1.0|    1|  TP|\n",
            "|076.678.965-93|872.870.813-00| 0.731036465547335|    0|  TN|\n",
            "|506.359.495-63|506.359.495-63|               1.0|    1|  TP|\n",
            "|895.160.103-00|895.160.103-00|               1.0|    1|  TP|\n",
            "|429.056.400-30|429.056.400-30|               1.0|    1|  TP|\n",
            "+--------------+--------------+------------------+-----+----+\n",
            "only showing top 20 rows\n",
            "\n",
            "None\n",
            "+--------------+--------------+------------------+-----+----+\n",
            "|         cpf_a|         cpf_b|        similarity|match|perf|\n",
            "+--------------+--------------+------------------+-----+----+\n",
            "|081.783.955-09|081.783.955-09|               1.0|    1|  TP|\n",
            "|488.380.897-10|488.380.897-10|               1.0|    1|  TP|\n",
            "|475.612.908-02|475.612.908-02|0.9969230769230769|    1|  TP|\n",
            "|625.938.432-76|625.938.432-76|0.9879480519480519|    1|  TP|\n",
            "|420.868.827-00|420.868.827-00|               1.0|    1|  TP|\n",
            "|390.371.546-89|390.371.546-89|               1.0|    1|  TP|\n",
            "|249.678.124-57|249.678.124-57|               1.0|    1|  TP|\n",
            "|055.302.287-39|055.302.287-39|0.9949828722002636|    1|  TP|\n",
            "|506.865.202-46|506.865.202-46|               1.0|    1|  TP|\n",
            "|327.630.596-86|327.630.596-86|               1.0|    1|  TP|\n",
            "|658.224.088-93|535.871.894-04|             0.816|    0|  TN|\n",
            "|248.115.138-00|248.115.138-00|               1.0|    1|  TP|\n",
            "|617.496.046-39|442.694.244-60|0.8320000000000001|    0|  TN|\n",
            "|455.643.269-38|455.643.269-38|              0.88|    1|  TP|\n",
            "|295.718.231-98|295.718.231-98|               1.0|    1|  TP|\n",
            "|134.836.403-39|134.836.403-39|               1.0|    1|  TP|\n",
            "|605.621.365-09|872.870.813-00|0.7377400276052452|    0|  TN|\n",
            "|506.359.495-63|506.359.495-63|               1.0|    1|  TP|\n",
            "|895.160.103-00|895.160.103-00|               1.0|    1|  TP|\n",
            "|429.056.400-30|429.056.400-30|               1.0|    1|  TP|\n",
            "+--------------+--------------+------------------+-----+----+\n",
            "only showing top 20 rows\n",
            "\n",
            "None\n",
            "+--------------+--------------+----------+-----+----+\n",
            "|         cpf_a|         cpf_b|similarity|match|perf|\n",
            "+--------------+--------------+----------+-----+----+\n",
            "|756.048.583-90|756.048.583-90|       1.0|    1|  TP|\n",
            "|869.696.945-69|869.696.945-69|       1.0|    1|  TP|\n",
            "|181.410.022-95|181.410.022-95|       1.0|    1|  TP|\n",
            "|631.466.800-09|631.466.800-09|       1.0|    1|  TP|\n",
            "|281.229.310-14|281.229.310-14|       1.0|    1|  TP|\n",
            "|797.175.014-59|797.175.014-59|       1.0|    1|  TP|\n",
            "|081.783.955-09|081.783.955-09|       1.0|    1|  TP|\n",
            "|318.470.004-60|318.470.004-60|       1.0|    1|  TP|\n",
            "|095.450.063-66|095.450.063-66|       1.0|    1|  TP|\n",
            "|571.307.021-25|571.307.021-25|       1.0|    1|  TP|\n",
            "|618.880.659-31|618.880.659-31|       1.0|    1|  TP|\n",
            "|071.707.642-37|071.707.642-37|       1.0|    1|  TP|\n",
            "|506.865.202-46|506.865.202-46|       1.0|    1|  TP|\n",
            "|735.197.681-35|735.197.681-35|       1.0|    1|  TP|\n",
            "|725.521.191-74|725.521.191-74|       1.0|    1|  TP|\n",
            "|843.458.724-64|843.458.724-64|       1.0|    1|  TP|\n",
            "|302.706.239-57|302.706.239-57|       1.0|    1|  TP|\n",
            "|143.975.020-30|143.975.020-30|       1.0|    1|  TP|\n",
            "|213.005.833-71|213.005.833-71|       1.0|    1|  TP|\n",
            "|546.506.467-66|546.506.467-66|       1.0|    1|  TP|\n",
            "+--------------+--------------+----------+-----+----+\n",
            "only showing top 20 rows\n",
            "\n",
            "None\n"
          ]
        }
      ]
    },
    {
      "cell_type": "markdown",
      "metadata": {
        "id": "BUq55ilPnLCJ"
      },
      "source": [
        "## Measures\n",
        "Accuracy = (TP + TN) / (FP + TP + FN + TN)\n",
        "\n",
        "Positive predictive value (PPV) = TP / (TP + FP)\n",
        "\n",
        "Negative predictive value (NPV) = TN / (TN + FN)\n",
        "\n",
        "Sensitivity (True positive rate) = TP / (TP + FN)\n",
        "\n",
        "Specificity (True negative rate) = TN / (TN + FP)"
      ]
    },
    {
      "cell_type": "code",
      "metadata": {
        "id": "QRLrSpE0nEsA"
      },
      "source": [
        "dic_results1 = {}\n",
        "TP = M1_accuracy_calc.filter(F.col('perf') == \"TP\").count()\n",
        "TN = M1_accuracy_calc.filter(F.col('perf') == \"TN\").count()\n",
        "FP = M1_accuracy_calc.filter(F.col('perf') == \"FP\").count()\n",
        "FN = M1_accuracy_calc.filter(F.col('perf') == \"FN\").count()\n",
        "\n",
        "dic_results1['accuracy'] =  float(TP + TN) / (FP + TP + FN + TN)\n",
        "dic_results1['ppv'] = float(TP) / (TP + FP)\n",
        "dic_results1['npv'] = float(TN) / (TN + FN)\n",
        "dic_results1['sens'] = float(TP) / (TP + FN)\n",
        "dic_results1['spec'] = float(TN) / (TN + FP)"
      ],
      "execution_count": 204,
      "outputs": []
    },
    {
      "cell_type": "code",
      "metadata": {
        "id": "CBZ8jYprnc76"
      },
      "source": [
        "dic_results2 = {}\n",
        "TP = M2_accuracy_calc.filter(F.col('perf') == \"TP\").count()\n",
        "TN = M2_accuracy_calc.filter(F.col('perf') == \"TN\").count()\n",
        "FP = M2_accuracy_calc.filter(F.col('perf') == \"FP\").count()\n",
        "FN = M2_accuracy_calc.filter(F.col('perf') == \"FN\").count()\n",
        "\n",
        "dic_results2['accuracy'] =  float(TP + TN) / (FP + TP + FN + TN)\n",
        "dic_results2['ppv'] = float(TP) / (TP + FP)\n",
        "dic_results2['npv'] = float(TN) / (TN + FN)\n",
        "dic_results2['sens'] = float(TP) / (TP + FN)\n",
        "dic_results2['spec'] = float(TN) / (TN + FP)"
      ],
      "execution_count": 205,
      "outputs": []
    },
    {
      "cell_type": "code",
      "metadata": {
        "id": "XdSZUG-PndtU"
      },
      "source": [
        "dic_results3 = {}\n",
        "TP = M3_accuracy_calc.filter(F.col('perf') == \"TP\").count()\n",
        "TN = M3_accuracy_calc.filter(F.col('perf') == \"TN\").count()\n",
        "FP = M3_accuracy_calc.filter(F.col('perf') == \"FP\").count()\n",
        "FN = M3_accuracy_calc.filter(F.col('perf') == \"FN\").count()\n",
        "\n",
        "dic_results3['accuracy'] =  float(TP + TN) / (FP + TP + FN + TN)\n",
        "dic_results3['ppv'] = float(TP) / (TP + FP)\n",
        "dic_results3['npv'] = float(TN) / (TN + FN)\n",
        "dic_results3['sens'] = float(TP) / (TP + FN)\n",
        "dic_results3['spec'] = float(TN) / (TN + FP)"
      ],
      "execution_count": 217,
      "outputs": []
    },
    {
      "cell_type": "code",
      "metadata": {
        "colab": {
          "base_uri": "https://localhost:8080/"
        },
        "id": "Jqrc1N6NnkgU",
        "outputId": "020e7033-1e75-41cb-817e-136fe83bea91"
      },
      "source": [
        "final_results1 = pd.DataFrame(dic_results1, index=[0])\n",
        "final_results2 = pd.DataFrame(dic_results2, index=[0])\n",
        "final_results3 = pd.DataFrame(dic_results3, index=[0])\n",
        "print(final_results1)\n",
        "print(final_results2)\n",
        "print(final_results3)"
      ],
      "execution_count": 222,
      "outputs": [
        {
          "output_type": "stream",
          "name": "stdout",
          "text": [
            "   accuracy       ppv       npv      sens  spec\n",
            "0  0.833333  0.922078  0.648649  0.845238   0.8\n",
            "   accuracy      ppv       npv      sens      spec\n",
            "0   0.86087  0.88764  0.769231  0.929412  0.666667\n",
            "   accuracy  ppv       npv      sens  spec\n",
            "0  0.979021  1.0  0.933333  0.970297   1.0\n"
          ]
        }
      ]
    },
    {
      "cell_type": "markdown",
      "metadata": {
        "id": "Gm9nHoyqsRvS"
      },
      "source": [
        "******************************************************************************************************************************************************************************************************************************************"
      ]
    },
    {
      "cell_type": "markdown",
      "metadata": {
        "id": "dRAPPkVbsUf4"
      },
      "source": [
        "******************************************************************************************************************************************************************************************************************************************"
      ]
    }
  ]
}